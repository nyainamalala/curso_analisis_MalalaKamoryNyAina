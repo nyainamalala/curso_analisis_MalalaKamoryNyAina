{
 "cells": [
  {
   "attachments": {},
   "cell_type": "markdown",
   "metadata": {
    "collapsed": false
   },
   "source": [
    "# Caso práctico Video Game Sales\n",
    "\n",
    "Descargar dataset de Kaggle: https://www.kaggle.com/gregorut/videogamesales\n",
    "\n",
    "Importante: usar el dataset CSV proporcionado para este ejercicio ya que contiene valores nulos creados para el apartado de valores faltantes."
   ]
  },
  {
   "cell_type": "markdown",
   "metadata": {
    "collapsed": false
   },
   "source": [
    "## Importar librerías\n",
    "\n",
    "Importar pandas"
   ]
  },
  {
   "cell_type": "code",
   "execution_count": 207,
   "metadata": {
    "collapsed": false
   },
   "outputs": [],
   "source": [
    "import pandas as pd\n",
    "import numpy as np"
   ]
  },
  {
   "cell_type": "markdown",
   "metadata": {
    "collapsed": false
   },
   "source": [
    "## Carga de datos CSV"
   ]
  },
  {
   "cell_type": "code",
   "execution_count": 208,
   "metadata": {
    "collapsed": false
   },
   "outputs": [],
   "source": [
    "df = pd.read_csv('../data/vgsales_caso_practico.csv')"
   ]
  },
  {
   "cell_type": "markdown",
   "metadata": {
    "collapsed": false
   },
   "source": [
    "## Inspección de los datos\n",
    "\n",
    "Verifica los primeros registros del conjunto de datos y obtén un resumen de las estadísticas generales.\n"
   ]
  },
  {
   "cell_type": "code",
   "execution_count": 209,
   "metadata": {
    "collapsed": false
   },
   "outputs": [
    {
     "data": {
      "text/html": [
       "<div>\n",
       "<style scoped>\n",
       "    .dataframe tbody tr th:only-of-type {\n",
       "        vertical-align: middle;\n",
       "    }\n",
       "\n",
       "    .dataframe tbody tr th {\n",
       "        vertical-align: top;\n",
       "    }\n",
       "\n",
       "    .dataframe thead th {\n",
       "        text-align: right;\n",
       "    }\n",
       "</style>\n",
       "<table border=\"1\" class=\"dataframe\">\n",
       "  <thead>\n",
       "    <tr style=\"text-align: right;\">\n",
       "      <th></th>\n",
       "      <th>Rank</th>\n",
       "      <th>Name</th>\n",
       "      <th>Platform</th>\n",
       "      <th>Year</th>\n",
       "      <th>Genre</th>\n",
       "      <th>Publisher</th>\n",
       "      <th>NA_Sales</th>\n",
       "      <th>EU_Sales</th>\n",
       "      <th>JP_Sales</th>\n",
       "      <th>Other_Sales</th>\n",
       "      <th>Global_Sales</th>\n",
       "    </tr>\n",
       "  </thead>\n",
       "  <tbody>\n",
       "    <tr>\n",
       "      <th>0</th>\n",
       "      <td>1</td>\n",
       "      <td>Wii Sports</td>\n",
       "      <td>Wii</td>\n",
       "      <td>2006.0</td>\n",
       "      <td>Sports</td>\n",
       "      <td>Nintendo</td>\n",
       "      <td>41.49</td>\n",
       "      <td>29.02</td>\n",
       "      <td>3.77</td>\n",
       "      <td>8.46</td>\n",
       "      <td>82.74</td>\n",
       "    </tr>\n",
       "  </tbody>\n",
       "</table>\n",
       "</div>"
      ],
      "text/plain": [
       "   Rank        Name Platform    Year   Genre Publisher  NA_Sales  EU_Sales  \\\n",
       "0     1  Wii Sports      Wii  2006.0  Sports  Nintendo     41.49     29.02   \n",
       "\n",
       "   JP_Sales  Other_Sales  Global_Sales  \n",
       "0      3.77         8.46         82.74  "
      ]
     },
     "execution_count": 209,
     "metadata": {},
     "output_type": "execute_result"
    }
   ],
   "source": [
    "df.head(1)"
   ]
  },
  {
   "cell_type": "code",
   "execution_count": 210,
   "metadata": {},
   "outputs": [
    {
     "data": {
      "text/html": [
       "<div>\n",
       "<style scoped>\n",
       "    .dataframe tbody tr th:only-of-type {\n",
       "        vertical-align: middle;\n",
       "    }\n",
       "\n",
       "    .dataframe tbody tr th {\n",
       "        vertical-align: top;\n",
       "    }\n",
       "\n",
       "    .dataframe thead th {\n",
       "        text-align: right;\n",
       "    }\n",
       "</style>\n",
       "<table border=\"1\" class=\"dataframe\">\n",
       "  <thead>\n",
       "    <tr style=\"text-align: right;\">\n",
       "      <th></th>\n",
       "      <th>Rank</th>\n",
       "      <th>Year</th>\n",
       "      <th>NA_Sales</th>\n",
       "      <th>EU_Sales</th>\n",
       "      <th>JP_Sales</th>\n",
       "      <th>Other_Sales</th>\n",
       "      <th>Global_Sales</th>\n",
       "    </tr>\n",
       "  </thead>\n",
       "  <tbody>\n",
       "    <tr>\n",
       "      <th>count</th>\n",
       "      <td>16598.000000</td>\n",
       "      <td>16327.000000</td>\n",
       "      <td>16598.000000</td>\n",
       "      <td>16598.000000</td>\n",
       "      <td>16598.000000</td>\n",
       "      <td>16598.000000</td>\n",
       "      <td>16596.000000</td>\n",
       "    </tr>\n",
       "    <tr>\n",
       "      <th>mean</th>\n",
       "      <td>8300.605254</td>\n",
       "      <td>2006.406443</td>\n",
       "      <td>0.264667</td>\n",
       "      <td>0.146652</td>\n",
       "      <td>0.077782</td>\n",
       "      <td>0.048063</td>\n",
       "      <td>0.535448</td>\n",
       "    </tr>\n",
       "    <tr>\n",
       "      <th>std</th>\n",
       "      <td>4791.853933</td>\n",
       "      <td>5.828981</td>\n",
       "      <td>0.816683</td>\n",
       "      <td>0.505351</td>\n",
       "      <td>0.309291</td>\n",
       "      <td>0.188588</td>\n",
       "      <td>1.537945</td>\n",
       "    </tr>\n",
       "    <tr>\n",
       "      <th>min</th>\n",
       "      <td>1.000000</td>\n",
       "      <td>1980.000000</td>\n",
       "      <td>0.000000</td>\n",
       "      <td>0.000000</td>\n",
       "      <td>0.000000</td>\n",
       "      <td>0.000000</td>\n",
       "      <td>0.010000</td>\n",
       "    </tr>\n",
       "    <tr>\n",
       "      <th>25%</th>\n",
       "      <td>4151.250000</td>\n",
       "      <td>2003.000000</td>\n",
       "      <td>0.000000</td>\n",
       "      <td>0.000000</td>\n",
       "      <td>0.000000</td>\n",
       "      <td>0.000000</td>\n",
       "      <td>0.060000</td>\n",
       "    </tr>\n",
       "    <tr>\n",
       "      <th>50%</th>\n",
       "      <td>8300.500000</td>\n",
       "      <td>2007.000000</td>\n",
       "      <td>0.080000</td>\n",
       "      <td>0.020000</td>\n",
       "      <td>0.000000</td>\n",
       "      <td>0.010000</td>\n",
       "      <td>0.170000</td>\n",
       "    </tr>\n",
       "    <tr>\n",
       "      <th>75%</th>\n",
       "      <td>12449.750000</td>\n",
       "      <td>2010.000000</td>\n",
       "      <td>0.240000</td>\n",
       "      <td>0.110000</td>\n",
       "      <td>0.040000</td>\n",
       "      <td>0.040000</td>\n",
       "      <td>0.470000</td>\n",
       "    </tr>\n",
       "    <tr>\n",
       "      <th>max</th>\n",
       "      <td>16600.000000</td>\n",
       "      <td>2020.000000</td>\n",
       "      <td>41.490000</td>\n",
       "      <td>29.020000</td>\n",
       "      <td>10.220000</td>\n",
       "      <td>10.570000</td>\n",
       "      <td>82.740000</td>\n",
       "    </tr>\n",
       "  </tbody>\n",
       "</table>\n",
       "</div>"
      ],
      "text/plain": [
       "               Rank          Year      NA_Sales      EU_Sales      JP_Sales  \\\n",
       "count  16598.000000  16327.000000  16598.000000  16598.000000  16598.000000   \n",
       "mean    8300.605254   2006.406443      0.264667      0.146652      0.077782   \n",
       "std     4791.853933      5.828981      0.816683      0.505351      0.309291   \n",
       "min        1.000000   1980.000000      0.000000      0.000000      0.000000   \n",
       "25%     4151.250000   2003.000000      0.000000      0.000000      0.000000   \n",
       "50%     8300.500000   2007.000000      0.080000      0.020000      0.000000   \n",
       "75%    12449.750000   2010.000000      0.240000      0.110000      0.040000   \n",
       "max    16600.000000   2020.000000     41.490000     29.020000     10.220000   \n",
       "\n",
       "        Other_Sales  Global_Sales  \n",
       "count  16598.000000  16596.000000  \n",
       "mean       0.048063      0.535448  \n",
       "std        0.188588      1.537945  \n",
       "min        0.000000      0.010000  \n",
       "25%        0.000000      0.060000  \n",
       "50%        0.010000      0.170000  \n",
       "75%        0.040000      0.470000  \n",
       "max       10.570000     82.740000  "
      ]
     },
     "execution_count": 210,
     "metadata": {},
     "output_type": "execute_result"
    }
   ],
   "source": [
    "df.describe()"
   ]
  },
  {
   "cell_type": "markdown",
   "metadata": {
    "collapsed": false
   },
   "source": [
    "## Tratamiento de valores faltantes\n",
    "\n",
    "Verifica si hay valores faltantes y, si es necesario, realiza el tratamiento adecuado para cada caso.\n"
   ]
  },
  {
   "cell_type": "code",
   "execution_count": 211,
   "metadata": {
    "collapsed": false
   },
   "outputs": [
    {
     "data": {
      "text/plain": [
       "<bound method Series.isnull of 0    1.0\n",
       "1    NaN\n",
       "2    3.0\n",
       "3    4.0\n",
       "4    NaN\n",
       "dtype: float64>"
      ]
     },
     "execution_count": 211,
     "metadata": {},
     "output_type": "execute_result"
    }
   ],
   "source": [
    "data = pd.Series([1, None, 3, 4, None])\n",
    "data.isnull"
   ]
  },
  {
   "cell_type": "markdown",
   "metadata": {
    "collapsed": false
   },
   "source": [
    "## Estadísticas de agrupación\n",
    "\n",
    "Agrupa los datos por la columna 'Platform' y calcula las ventas totales para cada plataforma.\n"
   ]
  },
  {
   "cell_type": "code",
   "execution_count": 212,
   "metadata": {},
   "outputs": [
    {
     "data": {
      "text/html": [
       "<div>\n",
       "<style scoped>\n",
       "    .dataframe tbody tr th:only-of-type {\n",
       "        vertical-align: middle;\n",
       "    }\n",
       "\n",
       "    .dataframe tbody tr th {\n",
       "        vertical-align: top;\n",
       "    }\n",
       "\n",
       "    .dataframe thead th {\n",
       "        text-align: right;\n",
       "    }\n",
       "</style>\n",
       "<table border=\"1\" class=\"dataframe\">\n",
       "  <thead>\n",
       "    <tr style=\"text-align: right;\">\n",
       "      <th></th>\n",
       "      <th>Rank</th>\n",
       "      <th>Name</th>\n",
       "      <th>Platform</th>\n",
       "      <th>Year</th>\n",
       "      <th>Genre</th>\n",
       "      <th>Publisher</th>\n",
       "      <th>NA_Sales</th>\n",
       "      <th>EU_Sales</th>\n",
       "      <th>JP_Sales</th>\n",
       "      <th>Other_Sales</th>\n",
       "      <th>Global_Sales</th>\n",
       "    </tr>\n",
       "  </thead>\n",
       "  <tbody>\n",
       "    <tr>\n",
       "      <th>0</th>\n",
       "      <td>1</td>\n",
       "      <td>Wii Sports</td>\n",
       "      <td>Wii</td>\n",
       "      <td>2006.0</td>\n",
       "      <td>Sports</td>\n",
       "      <td>Nintendo</td>\n",
       "      <td>41.49</td>\n",
       "      <td>29.02</td>\n",
       "      <td>3.77</td>\n",
       "      <td>8.46</td>\n",
       "      <td>82.74</td>\n",
       "    </tr>\n",
       "  </tbody>\n",
       "</table>\n",
       "</div>"
      ],
      "text/plain": [
       "   Rank        Name Platform    Year   Genre Publisher  NA_Sales  EU_Sales  \\\n",
       "0     1  Wii Sports      Wii  2006.0  Sports  Nintendo     41.49     29.02   \n",
       "\n",
       "   JP_Sales  Other_Sales  Global_Sales  \n",
       "0      3.77         8.46         82.74  "
      ]
     },
     "execution_count": 212,
     "metadata": {},
     "output_type": "execute_result"
    }
   ],
   "source": [
    "df.head(1)"
   ]
  },
  {
   "cell_type": "code",
   "execution_count": 213,
   "metadata": {},
   "outputs": [
    {
     "name": "stdout",
     "output_type": "stream",
     "text": [
      "              Rank       Year  NA_Sales  EU_Sales  JP_Sales  Other_Sales  \\\n",
      "Platform                                                                   \n",
      "2600        585665   229928.0     90.60      5.47      0.00         0.91   \n",
      "3DO          43118     5984.0      0.00      0.00      0.10         0.00   \n",
      "3DS        4662644  1006531.0     78.87     58.52     97.35        12.63   \n",
      "DC          456114   103997.0      5.43      1.69      8.56         0.27   \n",
      "DS        20845831  4283493.0    390.71    194.65    175.57        60.53   \n",
      "GB          332419   193608.0    114.32     47.82     85.12         8.20   \n",
      "GBA        7136749  1624604.0    187.54     75.25     47.33         7.73   \n",
      "GC         4817401  1085843.0    133.46     38.71     21.58         5.18   \n",
      "GEN         190019    53812.0     19.27      5.52      2.67         0.89   \n",
      "GG           13527     1992.0      0.00      0.00      0.04         0.00   \n",
      "N64        2083189   631536.0    139.02     41.06     34.22         4.38   \n",
      "NES         186831   194741.0    125.94     21.15     98.65         5.31   \n",
      "NG          127988    23934.0      0.00      0.00      1.44         0.00   \n",
      "PC        10980787  1894273.0     93.28    139.68      0.17        24.86   \n",
      "PCFX         14559     1996.0      0.00      0.00      0.03         0.00   \n",
      "PS         8322033  2375627.0    336.51    213.60    139.82        40.91   \n",
      "PS2       16159167  4263750.0    583.84    339.29    139.20       193.44   \n",
      "PS3        9027970  2622109.0    392.26    343.71     79.99       141.93   \n",
      "PS4        2562189   677042.0     96.80    123.70     14.30        43.36   \n",
      "PSP       12615047  2404440.0    108.99     68.25     76.79        42.19   \n",
      "PSV        4732241   829782.0     16.20     16.33     20.96         8.45   \n",
      "SAT        1614771   345313.0      0.72      0.54     32.26         0.07   \n",
      "SCD          61031    11963.0      1.00      0.36      0.45         0.05   \n",
      "SNES       1516804   476529.0     61.23     19.04    116.55         3.22   \n",
      "TG16         24763     3990.0      0.00      0.00      0.16         0.00   \n",
      "WS           47273    12000.0      0.00      0.00      1.42         0.00   \n",
      "Wii       10243276  2591562.0    507.71    268.38     69.35        80.61   \n",
      "WiiU       1109142   287944.0     38.32     24.23     12.79         6.45   \n",
      "X360       8466048  2482205.0    601.05    280.58     12.43        85.54   \n",
      "XB         7219276  1608920.0    186.69     60.95      1.38         8.72   \n",
      "XOne       1575574   429150.0     83.19     45.65      0.34        11.92   \n",
      "\n",
      "          Global_Sales  \n",
      "Platform                \n",
      "2600             97.08  \n",
      "3DO               0.10  \n",
      "3DS             247.46  \n",
      "DC               15.97  \n",
      "DS              792.48  \n",
      "GB              255.45  \n",
      "GBA             318.50  \n",
      "GC              199.36  \n",
      "GEN              28.36  \n",
      "GG                0.04  \n",
      "N64             218.88  \n",
      "NES             251.07  \n",
      "NG                1.44  \n",
      "PC              258.82  \n",
      "PCFX              0.03  \n",
      "PS              730.66  \n",
      "PS2            1251.50  \n",
      "PS3             957.84  \n",
      "PS4             278.10  \n",
      "PSP             296.28  \n",
      "PSV              61.93  \n",
      "SAT              33.59  \n",
      "SCD               1.87  \n",
      "SNES            200.05  \n",
      "TG16              0.16  \n",
      "WS                1.42  \n",
      "Wii             926.71  \n",
      "WiiU             81.86  \n",
      "X360            979.96  \n",
      "XB              258.26  \n",
      "XOne            141.06  \n"
     ]
    },
    {
     "name": "stderr",
     "output_type": "stream",
     "text": [
      "C:\\Users\\Malala Severien\\AppData\\Local\\Temp\\ipykernel_284\\1779111725.py:1: FutureWarning: The default value of numeric_only in DataFrameGroupBy.sum is deprecated. In a future version, numeric_only will default to False. Either specify numeric_only or select only columns which should be valid for the function.\n",
      "  ventas_totales = df.groupby('Platform').sum()\n"
     ]
    }
   ],
   "source": [
    "ventas_totales = df.groupby('Platform').sum()\n",
    "print(ventas_totales)"
   ]
  },
  {
   "cell_type": "markdown",
   "metadata": {
    "collapsed": false
   },
   "source": [
    "## Visualización de datos\n",
    "\n",
    "Crea un gráfico de barras para mostrar las ventas globales por plataforma.\n"
   ]
  },
  {
   "cell_type": "code",
   "execution_count": 214,
   "metadata": {},
   "outputs": [
    {
     "data": {
      "text/html": [
       "<div>\n",
       "<style scoped>\n",
       "    .dataframe tbody tr th:only-of-type {\n",
       "        vertical-align: middle;\n",
       "    }\n",
       "\n",
       "    .dataframe tbody tr th {\n",
       "        vertical-align: top;\n",
       "    }\n",
       "\n",
       "    .dataframe thead th {\n",
       "        text-align: right;\n",
       "    }\n",
       "</style>\n",
       "<table border=\"1\" class=\"dataframe\">\n",
       "  <thead>\n",
       "    <tr style=\"text-align: right;\">\n",
       "      <th></th>\n",
       "      <th>Rank</th>\n",
       "      <th>Name</th>\n",
       "      <th>Platform</th>\n",
       "      <th>Year</th>\n",
       "      <th>Genre</th>\n",
       "      <th>Publisher</th>\n",
       "      <th>NA_Sales</th>\n",
       "      <th>EU_Sales</th>\n",
       "      <th>JP_Sales</th>\n",
       "      <th>Other_Sales</th>\n",
       "      <th>Global_Sales</th>\n",
       "    </tr>\n",
       "  </thead>\n",
       "  <tbody>\n",
       "    <tr>\n",
       "      <th>15052</th>\n",
       "      <td>15055</td>\n",
       "      <td>NASCAR Heat Evolution</td>\n",
       "      <td>XOne</td>\n",
       "      <td>2016.0</td>\n",
       "      <td>Racing</td>\n",
       "      <td>Dusenberry Martin Racing</td>\n",
       "      <td>0.02</td>\n",
       "      <td>0.0</td>\n",
       "      <td>0.0</td>\n",
       "      <td>0.0</td>\n",
       "      <td>0.02</td>\n",
       "    </tr>\n",
       "  </tbody>\n",
       "</table>\n",
       "</div>"
      ],
      "text/plain": [
       "        Rank                   Name Platform    Year   Genre  \\\n",
       "15052  15055  NASCAR Heat Evolution     XOne  2016.0  Racing   \n",
       "\n",
       "                      Publisher  NA_Sales  EU_Sales  JP_Sales  Other_Sales  \\\n",
       "15052  Dusenberry Martin Racing      0.02       0.0       0.0          0.0   \n",
       "\n",
       "       Global_Sales  \n",
       "15052          0.02  "
      ]
     },
     "execution_count": 214,
     "metadata": {},
     "output_type": "execute_result"
    }
   ],
   "source": [
    "df.sort_values('Platform', ascending=False).head(1)"
   ]
  },
  {
   "cell_type": "code",
   "execution_count": 215,
   "metadata": {},
   "outputs": [
    {
     "data": {
      "text/plain": [
       "<Axes: >"
      ]
     },
     "execution_count": 215,
     "metadata": {},
     "output_type": "execute_result"
    },
    {
     "data": {
      "image/png": "[encoded data removed]",
      "text/plain": [
       "<Figure size 600x480 with 1 Axes>"
      ]
     },
     "metadata": {},
     "output_type": "display_data"
    }
   ],
   "source": [
    "ventas_platforms = df['Platform'].hist()\n",
    "ventas_platforms"
   ]
  },
  {
   "cell_type": "code",
   "execution_count": 216,
   "metadata": {
    "collapsed": false
   },
   "outputs": [],
   "source": [
    "# df_barras = df.sort_values('Global_Sales', ascending=False).iloc[:10]\n",
    "\n",
    "# df_barras.plot(kind='bar', x='District', y='Population', rot=45)"
   ]
  },
  {
   "cell_type": "markdown",
   "metadata": {
    "collapsed": false
   },
   "source": [
    "## Creación de nuevas características\n",
    "\n",
    "Crea una nueva característica 'Sales_in_Millions' para hacer que las ventas sean más legibles, que muestre las ventas totales pero en millones."
   ]
  },
  {
   "cell_type": "code",
   "execution_count": 217,
   "metadata": {
    "collapsed": false
   },
   "outputs": [
    {
     "data": {
      "text/plain": [
       "Rank              int64\n",
       "Name             object\n",
       "Platform         object\n",
       "Year            float64\n",
       "Genre            object\n",
       "Publisher        object\n",
       "NA_Sales        float64\n",
       "EU_Sales        float64\n",
       "JP_Sales        float64\n",
       "Other_Sales     float64\n",
       "Global_Sales    float64\n",
       "dtype: object"
      ]
     },
     "execution_count": 217,
     "metadata": {},
     "output_type": "execute_result"
    }
   ],
   "source": [
    "df_crear=pd.read_csv('../data/vgsales_caso_practico.csv', dtype={'Sales_in_Millions': 'float'})\n",
    "df_crear.dtypes"
   ]
  },
  {
   "cell_type": "markdown",
   "metadata": {
    "collapsed": false
   },
   "source": [
    "## Agrupación avanzada:\n",
    "\n",
    "Agrupa por 'Year' y 'Platform' y calcula las ventas totales."
   ]
  },
  {
   "cell_type": "code",
   "execution_count": 218,
   "metadata": {},
   "outputs": [
    {
     "data": {
      "text/plain": [
       "Platform\n",
       "2600     229928.0\n",
       "3DO        5984.0\n",
       "3DS     1006531.0\n",
       "DC       103997.0\n",
       "DS      4283493.0\n",
       "GB       193608.0\n",
       "GBA     1624604.0\n",
       "GC      1085843.0\n",
       "GEN       53812.0\n",
       "GG         1992.0\n",
       "N64      631536.0\n",
       "NES      194741.0\n",
       "NG        23934.0\n",
       "PC      1894273.0\n",
       "PCFX       1996.0\n",
       "PS      2375627.0\n",
       "PS2     4263750.0\n",
       "PS3     2622109.0\n",
       "PS4      677042.0\n",
       "PSP     2404440.0\n",
       "PSV      829782.0\n",
       "SAT      345313.0\n",
       "SCD       11963.0\n",
       "SNES     476529.0\n",
       "TG16       3990.0\n",
       "WS        12000.0\n",
       "Wii     2591562.0\n",
       "WiiU     287944.0\n",
       "X360    2482205.0\n",
       "XB      1608920.0\n",
       "XOne     429150.0\n",
       "Name: Year, dtype: float64"
      ]
     },
     "execution_count": 218,
     "metadata": {},
     "output_type": "execute_result"
    }
   ],
   "source": [
    "df.groupby('Platform')['Year'].sum()"
   ]
  },
  {
   "cell_type": "code",
   "execution_count": 219,
   "metadata": {},
   "outputs": [
    {
     "data": {
      "text/plain": [
       "<bound method Series.reset_index of Platform\n",
       "2600     229928.0\n",
       "3DO        5984.0\n",
       "3DS     1006531.0\n",
       "DC       103997.0\n",
       "DS      4283493.0\n",
       "GB       193608.0\n",
       "GBA     1624604.0\n",
       "GC      1085843.0\n",
       "GEN       53812.0\n",
       "GG         1992.0\n",
       "N64      631536.0\n",
       "NES      194741.0\n",
       "NG        23934.0\n",
       "PC      1894273.0\n",
       "PCFX       1996.0\n",
       "PS      2375627.0\n",
       "PS2     4263750.0\n",
       "PS3     2622109.0\n",
       "PS4      677042.0\n",
       "PSP     2404440.0\n",
       "PSV      829782.0\n",
       "SAT      345313.0\n",
       "SCD       11963.0\n",
       "SNES     476529.0\n",
       "TG16       3990.0\n",
       "WS        12000.0\n",
       "Wii     2591562.0\n",
       "WiiU     287944.0\n",
       "X360    2482205.0\n",
       "XB      1608920.0\n",
       "XOne     429150.0\n",
       "Name: Year, dtype: float64>"
      ]
     },
     "execution_count": 219,
     "metadata": {},
     "output_type": "execute_result"
    }
   ],
   "source": [
    "agrupacion = df.groupby('Platform')['Year'].sum()\n",
    "\n",
    "agrupacion.reset_index"
   ]
  },
  {
   "cell_type": "markdown",
   "metadata": {
    "collapsed": false
   },
   "source": [
    "## Tratamiento de columnas de texto\n",
    "\n",
    "Transforma el género en una variable categórica numerada.\n"
   ]
  },
  {
   "cell_type": "code",
   "execution_count": 220,
   "metadata": {},
   "outputs": [
    {
     "data": {
      "text/html": [
       "<div>\n",
       "<style scoped>\n",
       "    .dataframe tbody tr th:only-of-type {\n",
       "        vertical-align: middle;\n",
       "    }\n",
       "\n",
       "    .dataframe tbody tr th {\n",
       "        vertical-align: top;\n",
       "    }\n",
       "\n",
       "    .dataframe thead th {\n",
       "        text-align: right;\n",
       "    }\n",
       "</style>\n",
       "<table border=\"1\" class=\"dataframe\">\n",
       "  <thead>\n",
       "    <tr style=\"text-align: right;\">\n",
       "      <th></th>\n",
       "      <th>Rank</th>\n",
       "      <th>Name</th>\n",
       "      <th>Platform</th>\n",
       "      <th>Year</th>\n",
       "      <th>Genre</th>\n",
       "      <th>Publisher</th>\n",
       "      <th>NA_Sales</th>\n",
       "      <th>EU_Sales</th>\n",
       "      <th>JP_Sales</th>\n",
       "      <th>Other_Sales</th>\n",
       "      <th>Global_Sales</th>\n",
       "    </tr>\n",
       "  </thead>\n",
       "  <tbody>\n",
       "    <tr>\n",
       "      <th>0</th>\n",
       "      <td>1</td>\n",
       "      <td>Wii Sports</td>\n",
       "      <td>Wii</td>\n",
       "      <td>2006.0</td>\n",
       "      <td>Sports</td>\n",
       "      <td>Nintendo</td>\n",
       "      <td>41.49</td>\n",
       "      <td>29.02</td>\n",
       "      <td>3.77</td>\n",
       "      <td>8.46</td>\n",
       "      <td>82.74</td>\n",
       "    </tr>\n",
       "    <tr>\n",
       "      <th>1</th>\n",
       "      <td>2</td>\n",
       "      <td>Super Mario Bros.</td>\n",
       "      <td>NES</td>\n",
       "      <td>1985.0</td>\n",
       "      <td>Platform</td>\n",
       "      <td>Nintendo</td>\n",
       "      <td>29.08</td>\n",
       "      <td>3.58</td>\n",
       "      <td>6.81</td>\n",
       "      <td>0.77</td>\n",
       "      <td>40.24</td>\n",
       "    </tr>\n",
       "    <tr>\n",
       "      <th>2</th>\n",
       "      <td>3</td>\n",
       "      <td>Mario Kart Wii</td>\n",
       "      <td>Wii</td>\n",
       "      <td>2008.0</td>\n",
       "      <td>Racing</td>\n",
       "      <td>Nintendo</td>\n",
       "      <td>15.85</td>\n",
       "      <td>12.88</td>\n",
       "      <td>3.79</td>\n",
       "      <td>3.31</td>\n",
       "      <td>35.82</td>\n",
       "    </tr>\n",
       "    <tr>\n",
       "      <th>3</th>\n",
       "      <td>4</td>\n",
       "      <td>Wii Sports Resort</td>\n",
       "      <td>Wii</td>\n",
       "      <td>2009.0</td>\n",
       "      <td>Sports</td>\n",
       "      <td>Nintendo</td>\n",
       "      <td>15.75</td>\n",
       "      <td>11.01</td>\n",
       "      <td>3.28</td>\n",
       "      <td>2.96</td>\n",
       "      <td>33.00</td>\n",
       "    </tr>\n",
       "  </tbody>\n",
       "</table>\n",
       "</div>"
      ],
      "text/plain": [
       "   Rank               Name Platform    Year     Genre Publisher  NA_Sales  \\\n",
       "0     1         Wii Sports      Wii  2006.0    Sports  Nintendo     41.49   \n",
       "1     2  Super Mario Bros.      NES  1985.0  Platform  Nintendo     29.08   \n",
       "2     3     Mario Kart Wii      Wii  2008.0    Racing  Nintendo     15.85   \n",
       "3     4  Wii Sports Resort      Wii  2009.0    Sports  Nintendo     15.75   \n",
       "\n",
       "   EU_Sales  JP_Sales  Other_Sales  Global_Sales  \n",
       "0     29.02      3.77         8.46         82.74  \n",
       "1      3.58      6.81         0.77         40.24  \n",
       "2     12.88      3.79         3.31         35.82  \n",
       "3     11.01      3.28         2.96         33.00  "
      ]
     },
     "execution_count": 220,
     "metadata": {},
     "output_type": "execute_result"
    }
   ],
   "source": [
    "df.head(4)"
   ]
  },
  {
   "cell_type": "code",
   "execution_count": 221,
   "metadata": {},
   "outputs": [
    {
     "name": "stdout",
     "output_type": "stream",
     "text": [
      "['Sports' 'Platform' 'Racing' 'Role-Playing' 'Puzzle' 'Misc' 'Shooter'\n",
      " 'Simulation' 'Action' nan 'Fighting' 'Adventure' 'Strategy']\n"
     ]
    }
   ],
   "source": [
    "tipo_de_genero = df['Genre'].unique()\n",
    "print(tipo_de_genero)"
   ]
  },
  {
   "cell_type": "code",
   "execution_count": 222,
   "metadata": {
    "collapsed": false
   },
   "outputs": [
    {
     "data": {
      "text/html": [
       "<div>\n",
       "<style scoped>\n",
       "    .dataframe tbody tr th:only-of-type {\n",
       "        vertical-align: middle;\n",
       "    }\n",
       "\n",
       "    .dataframe tbody tr th {\n",
       "        vertical-align: top;\n",
       "    }\n",
       "\n",
       "    .dataframe thead th {\n",
       "        text-align: right;\n",
       "    }\n",
       "</style>\n",
       "<table border=\"1\" class=\"dataframe\">\n",
       "  <thead>\n",
       "    <tr style=\"text-align: right;\">\n",
       "      <th></th>\n",
       "      <th>Rank</th>\n",
       "      <th>Name</th>\n",
       "      <th>Platform</th>\n",
       "      <th>Year</th>\n",
       "      <th>Genre</th>\n",
       "      <th>Publisher</th>\n",
       "      <th>NA_Sales</th>\n",
       "      <th>EU_Sales</th>\n",
       "      <th>JP_Sales</th>\n",
       "      <th>Other_Sales</th>\n",
       "      <th>Global_Sales</th>\n",
       "      <th>Genre_int</th>\n",
       "    </tr>\n",
       "  </thead>\n",
       "  <tbody>\n",
       "    <tr>\n",
       "      <th>0</th>\n",
       "      <td>1</td>\n",
       "      <td>Wii Sports</td>\n",
       "      <td>Wii</td>\n",
       "      <td>2006.0</td>\n",
       "      <td>Sports</td>\n",
       "      <td>Nintendo</td>\n",
       "      <td>41.49</td>\n",
       "      <td>29.02</td>\n",
       "      <td>3.77</td>\n",
       "      <td>8.46</td>\n",
       "      <td>82.74</td>\n",
       "      <td>1.0</td>\n",
       "    </tr>\n",
       "    <tr>\n",
       "      <th>1</th>\n",
       "      <td>2</td>\n",
       "      <td>Super Mario Bros.</td>\n",
       "      <td>NES</td>\n",
       "      <td>1985.0</td>\n",
       "      <td>Platform</td>\n",
       "      <td>Nintendo</td>\n",
       "      <td>29.08</td>\n",
       "      <td>3.58</td>\n",
       "      <td>6.81</td>\n",
       "      <td>0.77</td>\n",
       "      <td>40.24</td>\n",
       "      <td>2.0</td>\n",
       "    </tr>\n",
       "    <tr>\n",
       "      <th>2</th>\n",
       "      <td>3</td>\n",
       "      <td>Mario Kart Wii</td>\n",
       "      <td>Wii</td>\n",
       "      <td>2008.0</td>\n",
       "      <td>Racing</td>\n",
       "      <td>Nintendo</td>\n",
       "      <td>15.85</td>\n",
       "      <td>12.88</td>\n",
       "      <td>3.79</td>\n",
       "      <td>3.31</td>\n",
       "      <td>35.82</td>\n",
       "      <td>3.0</td>\n",
       "    </tr>\n",
       "    <tr>\n",
       "      <th>3</th>\n",
       "      <td>4</td>\n",
       "      <td>Wii Sports Resort</td>\n",
       "      <td>Wii</td>\n",
       "      <td>2009.0</td>\n",
       "      <td>Sports</td>\n",
       "      <td>Nintendo</td>\n",
       "      <td>15.75</td>\n",
       "      <td>11.01</td>\n",
       "      <td>3.28</td>\n",
       "      <td>2.96</td>\n",
       "      <td>33.00</td>\n",
       "      <td>1.0</td>\n",
       "    </tr>\n",
       "    <tr>\n",
       "      <th>4</th>\n",
       "      <td>5</td>\n",
       "      <td>Pokemon Red/Pokemon Blue</td>\n",
       "      <td>GB</td>\n",
       "      <td>1996.0</td>\n",
       "      <td>Role-Playing</td>\n",
       "      <td>Nintendo</td>\n",
       "      <td>11.27</td>\n",
       "      <td>8.89</td>\n",
       "      <td>10.22</td>\n",
       "      <td>1.00</td>\n",
       "      <td>31.37</td>\n",
       "      <td>4.0</td>\n",
       "    </tr>\n",
       "  </tbody>\n",
       "</table>\n",
       "</div>"
      ],
      "text/plain": [
       "   Rank                      Name Platform    Year         Genre Publisher  \\\n",
       "0     1                Wii Sports      Wii  2006.0        Sports  Nintendo   \n",
       "1     2         Super Mario Bros.      NES  1985.0      Platform  Nintendo   \n",
       "2     3            Mario Kart Wii      Wii  2008.0        Racing  Nintendo   \n",
       "3     4         Wii Sports Resort      Wii  2009.0        Sports  Nintendo   \n",
       "4     5  Pokemon Red/Pokemon Blue       GB  1996.0  Role-Playing  Nintendo   \n",
       "\n",
       "   NA_Sales  EU_Sales  JP_Sales  Other_Sales  Global_Sales  Genre_int  \n",
       "0     41.49     29.02      3.77         8.46         82.74        1.0  \n",
       "1     29.08      3.58      6.81         0.77         40.24        2.0  \n",
       "2     15.85     12.88      3.79         3.31         35.82        3.0  \n",
       "3     15.75     11.01      3.28         2.96         33.00        1.0  \n",
       "4     11.27      8.89     10.22         1.00         31.37        4.0  "
      ]
     },
     "execution_count": 222,
     "metadata": {},
     "output_type": "execute_result"
    }
   ],
   "source": [
    "df['Genre_int'] = df['Genre'].map({\n",
    "    'Sports': 1,\n",
    "    'Platform': 2,\n",
    "    'Racing': 3,\n",
    "    'Role-Playing': 4,\n",
    "    'Puzzle': 5,\n",
    "    'Misc': 6,\n",
    "    'Shooter': 7,\n",
    "    'Simulation': 8,\n",
    "    'Action': 9,\n",
    "    'nan ': 0,\n",
    "    'Fighting': 10,\n",
    "    'Adventure': 11,\n",
    "    'Strategy': 12\n",
    "})\n",
    "df.head(5)"
   ]
  },
  {
   "cell_type": "markdown",
   "metadata": {
    "collapsed": false
   },
   "source": [
    "## Correlación entre características\n",
    "\n",
    "Examina la correlación entre las ventas en diferentes regiones utilizando la función corr() de pandas."
   ]
  },
  {
   "cell_type": "code",
   "execution_count": 223,
   "metadata": {},
   "outputs": [],
   "source": [
    "import matplotlib.pyplot as plt\n",
    "plt.style.use('seaborn-v0_8-whitegrid')\n",
    "plt.rcParams['figure.figsize'] = (5,4)\n",
    "plt.rcParams['figure.dpi'] = 120"
   ]
  },
  {
   "cell_type": "code",
   "execution_count": 224,
   "metadata": {
    "collapsed": false
   },
   "outputs": [
    {
     "name": "stderr",
     "output_type": "stream",
     "text": [
      "C:\\Users\\Malala Severien\\AppData\\Local\\Temp\\ipykernel_284\\957418781.py:2: FutureWarning: The default value of numeric_only in DataFrame.corr is deprecated. In a future version, it will default to False. Select only valid columns or specify the value of numeric_only to silence this warning.\n",
      "  correlacion = df.corr()\n"
     ]
    },
    {
     "data": {
      "image/png": "[encoded data removed]",
      "text/plain": [
       "<Figure size 600x480 with 2 Axes>"
      ]
     },
     "metadata": {},
     "output_type": "display_data"
    }
   ],
   "source": [
    "df = pd.read_csv('../data/vgsales_caso_practico.csv')\n",
    "correlacion = df.corr()\n",
    "\n",
    "plt.imshow(correlacion, cmap='viridis')\n",
    "plt.colorbar()\n",
    "plt.xticks(range(len(correlacion)), correlacion.columns, rotation=30)\n",
    "plt.yticks(range(len(correlacion)),correlacion.columns);"
   ]
  },
  {
   "cell_type": "markdown",
   "metadata": {
    "collapsed": false
   },
   "source": [
    "## Operaciones con strings\n",
    "\n",
    "Crea una nueva característica que contenga la primera letra del nombre del juego"
   ]
  },
  {
   "cell_type": "code",
   "execution_count": 225,
   "metadata": {},
   "outputs": [
    {
     "name": "stdout",
     "output_type": "stream",
     "text": [
      "['Wii Sports' 'Super Mario Bros.' 'Mario Kart Wii' ... 'Plushees'\n",
      " 'Woody Woodpecker in Crazy Castle 5' 'Know How 2']\n"
     ]
    }
   ],
   "source": [
    "tipo_de_nombre = df['Name'].unique()\n",
    "print(tipo_de_nombre)"
   ]
  },
  {
   "cell_type": "code",
   "execution_count": 226,
   "metadata": {
    "collapsed": false
   },
   "outputs": [
    {
     "name": "stdout",
     "output_type": "stream",
     "text": [
      "                      Nombre_de_juego Primera_Letra\n",
      "0                          Wii Sports             W\n",
      "1                   Super Mario Bros.             S\n",
      "2                      Mario Kart Wii             M\n",
      "3                            Plushees             W\n",
      "4  Woody Woodpecker in Crazy Castle 5             P\n",
      "5                          Know How 2             T\n"
     ]
    }
   ],
   "source": [
    "data_name = {'Nombre_de_juego': ['Wii Sports', \n",
    "                                 'Super Mario Bros.', \n",
    "                                 'Mario Kart Wii', \n",
    "                                 'Plushees',\n",
    "                                 'Woody Woodpecker in Crazy Castle 5', \n",
    "                                 'Know How 2']}\n",
    "\n",
    "df_nombre = pd.DataFrame(data_name)\n",
    "\n",
    "df_nombre['Primera_Letra'] = df['Name'].str.slice(stop=1)\n",
    "\n",
    "print(df_nombre)"
   ]
  },
  {
   "cell_type": "markdown",
   "metadata": {
    "collapsed": false
   },
   "source": [
    "## Recuento\n",
    "\n",
    "Cuenta cuántos juegos comienzan con cada letra.\n"
   ]
  },
  {
   "cell_type": "code",
   "execution_count": 227,
   "metadata": {
    "collapsed": false
   },
   "outputs": [
    {
     "name": "stdout",
     "output_type": "stream",
     "text": [
      "W    2\n",
      "S    1\n",
      "M    1\n",
      "P    1\n",
      "K    1\n",
      "Name: Letra_inicial, dtype: int64\n"
     ]
    }
   ],
   "source": [
    "df_nombre['Letra_inicial'] = df_nombre['Nombre_de_juego'].str[0]\n",
    "\n",
    "conteo_de_letra = df_nombre['Letra_inicial'].value_counts()\n",
    "print(conteo_de_letra)"
   ]
  },
  {
   "cell_type": "markdown",
   "metadata": {
    "collapsed": false
   },
   "source": [
    "## Ordenación de datos\n",
    "\n",
    "Ordena el DataFrame por ventas globales en orden descendente."
   ]
  },
  {
   "cell_type": "code",
   "execution_count": 228,
   "metadata": {},
   "outputs": [],
   "source": [
    "import seaborn as sns"
   ]
  },
  {
   "cell_type": "code",
   "execution_count": 229,
   "metadata": {},
   "outputs": [
    {
     "data": {
      "text/html": [
       "<div>\n",
       "<style scoped>\n",
       "    .dataframe tbody tr th:only-of-type {\n",
       "        vertical-align: middle;\n",
       "    }\n",
       "\n",
       "    .dataframe tbody tr th {\n",
       "        vertical-align: top;\n",
       "    }\n",
       "\n",
       "    .dataframe thead th {\n",
       "        text-align: right;\n",
       "    }\n",
       "</style>\n",
       "<table border=\"1\" class=\"dataframe\">\n",
       "  <thead>\n",
       "    <tr style=\"text-align: right;\">\n",
       "      <th></th>\n",
       "      <th>Rank</th>\n",
       "      <th>Name</th>\n",
       "      <th>Platform</th>\n",
       "      <th>Year</th>\n",
       "      <th>Genre</th>\n",
       "      <th>Publisher</th>\n",
       "      <th>NA_Sales</th>\n",
       "      <th>EU_Sales</th>\n",
       "      <th>JP_Sales</th>\n",
       "      <th>Other_Sales</th>\n",
       "      <th>Global_Sales</th>\n",
       "    </tr>\n",
       "  </thead>\n",
       "  <tbody>\n",
       "    <tr>\n",
       "      <th>16597</th>\n",
       "      <td>16600</td>\n",
       "      <td>Spirits &amp; Spells</td>\n",
       "      <td>GBA</td>\n",
       "      <td>2003.0</td>\n",
       "      <td>Platform</td>\n",
       "      <td>Wanadoo</td>\n",
       "      <td>0.01</td>\n",
       "      <td>0.00</td>\n",
       "      <td>0.00</td>\n",
       "      <td>0.00</td>\n",
       "      <td>0.01</td>\n",
       "    </tr>\n",
       "    <tr>\n",
       "      <th>16188</th>\n",
       "      <td>16191</td>\n",
       "      <td>Toro to Morimori</td>\n",
       "      <td>PS3</td>\n",
       "      <td>2009.0</td>\n",
       "      <td>Misc</td>\n",
       "      <td>Sony Computer Entertainment</td>\n",
       "      <td>0.00</td>\n",
       "      <td>0.00</td>\n",
       "      <td>0.01</td>\n",
       "      <td>0.00</td>\n",
       "      <td>0.01</td>\n",
       "    </tr>\n",
       "    <tr>\n",
       "      <th>16187</th>\n",
       "      <td>16190</td>\n",
       "      <td>Jewel Quest II</td>\n",
       "      <td>PC</td>\n",
       "      <td>2007.0</td>\n",
       "      <td>Puzzle</td>\n",
       "      <td>Avanquest</td>\n",
       "      <td>0.00</td>\n",
       "      <td>0.01</td>\n",
       "      <td>0.00</td>\n",
       "      <td>0.00</td>\n",
       "      <td>0.01</td>\n",
       "    </tr>\n",
       "    <tr>\n",
       "      <th>16186</th>\n",
       "      <td>16189</td>\n",
       "      <td>BattleForge</td>\n",
       "      <td>PC</td>\n",
       "      <td>2009.0</td>\n",
       "      <td>Strategy</td>\n",
       "      <td>Electronic Arts</td>\n",
       "      <td>0.00</td>\n",
       "      <td>0.01</td>\n",
       "      <td>0.00</td>\n",
       "      <td>0.00</td>\n",
       "      <td>0.01</td>\n",
       "    </tr>\n",
       "    <tr>\n",
       "      <th>16185</th>\n",
       "      <td>16188</td>\n",
       "      <td>Tantei Jinguuji Saburo: Hai to Diamond</td>\n",
       "      <td>PSP</td>\n",
       "      <td>2009.0</td>\n",
       "      <td>Adventure</td>\n",
       "      <td>Arc System Works</td>\n",
       "      <td>0.00</td>\n",
       "      <td>0.00</td>\n",
       "      <td>0.01</td>\n",
       "      <td>0.00</td>\n",
       "      <td>0.01</td>\n",
       "    </tr>\n",
       "    <tr>\n",
       "      <th>...</th>\n",
       "      <td>...</td>\n",
       "      <td>...</td>\n",
       "      <td>...</td>\n",
       "      <td>...</td>\n",
       "      <td>...</td>\n",
       "      <td>...</td>\n",
       "      <td>...</td>\n",
       "      <td>...</td>\n",
       "      <td>...</td>\n",
       "      <td>...</td>\n",
       "      <td>...</td>\n",
       "    </tr>\n",
       "    <tr>\n",
       "      <th>2</th>\n",
       "      <td>3</td>\n",
       "      <td>Mario Kart Wii</td>\n",
       "      <td>Wii</td>\n",
       "      <td>2008.0</td>\n",
       "      <td>Racing</td>\n",
       "      <td>Nintendo</td>\n",
       "      <td>15.85</td>\n",
       "      <td>12.88</td>\n",
       "      <td>3.79</td>\n",
       "      <td>3.31</td>\n",
       "      <td>35.82</td>\n",
       "    </tr>\n",
       "    <tr>\n",
       "      <th>1</th>\n",
       "      <td>2</td>\n",
       "      <td>Super Mario Bros.</td>\n",
       "      <td>NES</td>\n",
       "      <td>1985.0</td>\n",
       "      <td>Platform</td>\n",
       "      <td>Nintendo</td>\n",
       "      <td>29.08</td>\n",
       "      <td>3.58</td>\n",
       "      <td>6.81</td>\n",
       "      <td>0.77</td>\n",
       "      <td>40.24</td>\n",
       "    </tr>\n",
       "    <tr>\n",
       "      <th>0</th>\n",
       "      <td>1</td>\n",
       "      <td>Wii Sports</td>\n",
       "      <td>Wii</td>\n",
       "      <td>2006.0</td>\n",
       "      <td>Sports</td>\n",
       "      <td>Nintendo</td>\n",
       "      <td>41.49</td>\n",
       "      <td>29.02</td>\n",
       "      <td>3.77</td>\n",
       "      <td>8.46</td>\n",
       "      <td>82.74</td>\n",
       "    </tr>\n",
       "    <tr>\n",
       "      <th>6</th>\n",
       "      <td>7</td>\n",
       "      <td>New Super Mario Bros.</td>\n",
       "      <td>DS</td>\n",
       "      <td>2006.0</td>\n",
       "      <td>Platform</td>\n",
       "      <td>Nintendo</td>\n",
       "      <td>11.38</td>\n",
       "      <td>9.23</td>\n",
       "      <td>6.50</td>\n",
       "      <td>2.90</td>\n",
       "      <td>NaN</td>\n",
       "    </tr>\n",
       "    <tr>\n",
       "      <th>279</th>\n",
       "      <td>280</td>\n",
       "      <td>Madden NFL 2003</td>\n",
       "      <td>PS2</td>\n",
       "      <td>2002.0</td>\n",
       "      <td>Sports</td>\n",
       "      <td>Electronic Arts</td>\n",
       "      <td>3.36</td>\n",
       "      <td>0.21</td>\n",
       "      <td>0.01</td>\n",
       "      <td>0.56</td>\n",
       "      <td>NaN</td>\n",
       "    </tr>\n",
       "  </tbody>\n",
       "</table>\n",
       "<p>16598 rows × 11 columns</p>\n",
       "</div>"
      ],
      "text/plain": [
       "        Rank                                    Name Platform    Year  \\\n",
       "16597  16600                        Spirits & Spells      GBA  2003.0   \n",
       "16188  16191                        Toro to Morimori      PS3  2009.0   \n",
       "16187  16190                          Jewel Quest II       PC  2007.0   \n",
       "16186  16189                             BattleForge       PC  2009.0   \n",
       "16185  16188  Tantei Jinguuji Saburo: Hai to Diamond      PSP  2009.0   \n",
       "...      ...                                     ...      ...     ...   \n",
       "2          3                          Mario Kart Wii      Wii  2008.0   \n",
       "1          2                       Super Mario Bros.      NES  1985.0   \n",
       "0          1                              Wii Sports      Wii  2006.0   \n",
       "6          7                   New Super Mario Bros.       DS  2006.0   \n",
       "279      280                         Madden NFL 2003      PS2  2002.0   \n",
       "\n",
       "           Genre                    Publisher  NA_Sales  EU_Sales  JP_Sales  \\\n",
       "16597   Platform                      Wanadoo      0.01      0.00      0.00   \n",
       "16188       Misc  Sony Computer Entertainment      0.00      0.00      0.01   \n",
       "16187     Puzzle                    Avanquest      0.00      0.01      0.00   \n",
       "16186   Strategy              Electronic Arts      0.00      0.01      0.00   \n",
       "16185  Adventure             Arc System Works      0.00      0.00      0.01   \n",
       "...          ...                          ...       ...       ...       ...   \n",
       "2         Racing                     Nintendo     15.85     12.88      3.79   \n",
       "1       Platform                     Nintendo     29.08      3.58      6.81   \n",
       "0         Sports                     Nintendo     41.49     29.02      3.77   \n",
       "6       Platform                     Nintendo     11.38      9.23      6.50   \n",
       "279       Sports              Electronic Arts      3.36      0.21      0.01   \n",
       "\n",
       "       Other_Sales  Global_Sales  \n",
       "16597         0.00          0.01  \n",
       "16188         0.00          0.01  \n",
       "16187         0.00          0.01  \n",
       "16186         0.00          0.01  \n",
       "16185         0.00          0.01  \n",
       "...            ...           ...  \n",
       "2             3.31         35.82  \n",
       "1             0.77         40.24  \n",
       "0             8.46         82.74  \n",
       "6             2.90           NaN  \n",
       "279           0.56           NaN  \n",
       "\n",
       "[16598 rows x 11 columns]"
      ]
     },
     "execution_count": 229,
     "metadata": {},
     "output_type": "execute_result"
    }
   ],
   "source": [
    "df.sort_values('Global_Sales')"
   ]
  },
  {
   "cell_type": "markdown",
   "metadata": {
    "collapsed": false
   },
   "source": [
    "## Reset de índice\n",
    "\n",
    "Si en algún momento hemos filtrado el DataFrame o lo hemos alterado de manera que el índice ya no es una secuencia continua de enteros, puede ser útil restablecer el índice.\n"
   ]
  },
  {
   "cell_type": "code",
   "execution_count": 230,
   "metadata": {
    "collapsed": false
   },
   "outputs": [
    {
     "data": {
      "text/html": [
       "<div>\n",
       "<style scoped>\n",
       "    .dataframe tbody tr th:only-of-type {\n",
       "        vertical-align: middle;\n",
       "    }\n",
       "\n",
       "    .dataframe tbody tr th {\n",
       "        vertical-align: top;\n",
       "    }\n",
       "\n",
       "    .dataframe thead th {\n",
       "        text-align: right;\n",
       "    }\n",
       "</style>\n",
       "<table border=\"1\" class=\"dataframe\">\n",
       "  <thead>\n",
       "    <tr style=\"text-align: right;\">\n",
       "      <th></th>\n",
       "      <th>index</th>\n",
       "      <th>Rank</th>\n",
       "      <th>Name</th>\n",
       "      <th>Platform</th>\n",
       "      <th>Year</th>\n",
       "      <th>Genre</th>\n",
       "      <th>Publisher</th>\n",
       "      <th>NA_Sales</th>\n",
       "      <th>EU_Sales</th>\n",
       "      <th>JP_Sales</th>\n",
       "      <th>Other_Sales</th>\n",
       "      <th>Global_Sales</th>\n",
       "    </tr>\n",
       "  </thead>\n",
       "  <tbody>\n",
       "    <tr>\n",
       "      <th>0</th>\n",
       "      <td>0</td>\n",
       "      <td>1</td>\n",
       "      <td>Wii Sports</td>\n",
       "      <td>Wii</td>\n",
       "      <td>2006.0</td>\n",
       "      <td>Sports</td>\n",
       "      <td>Nintendo</td>\n",
       "      <td>41.49</td>\n",
       "      <td>29.02</td>\n",
       "      <td>3.77</td>\n",
       "      <td>8.46</td>\n",
       "      <td>82.74</td>\n",
       "    </tr>\n",
       "    <tr>\n",
       "      <th>1</th>\n",
       "      <td>1</td>\n",
       "      <td>2</td>\n",
       "      <td>Super Mario Bros.</td>\n",
       "      <td>NES</td>\n",
       "      <td>1985.0</td>\n",
       "      <td>Platform</td>\n",
       "      <td>Nintendo</td>\n",
       "      <td>29.08</td>\n",
       "      <td>3.58</td>\n",
       "      <td>6.81</td>\n",
       "      <td>0.77</td>\n",
       "      <td>40.24</td>\n",
       "    </tr>\n",
       "    <tr>\n",
       "      <th>2</th>\n",
       "      <td>2</td>\n",
       "      <td>3</td>\n",
       "      <td>Mario Kart Wii</td>\n",
       "      <td>Wii</td>\n",
       "      <td>2008.0</td>\n",
       "      <td>Racing</td>\n",
       "      <td>Nintendo</td>\n",
       "      <td>15.85</td>\n",
       "      <td>12.88</td>\n",
       "      <td>3.79</td>\n",
       "      <td>3.31</td>\n",
       "      <td>35.82</td>\n",
       "    </tr>\n",
       "    <tr>\n",
       "      <th>3</th>\n",
       "      <td>3</td>\n",
       "      <td>4</td>\n",
       "      <td>Wii Sports Resort</td>\n",
       "      <td>Wii</td>\n",
       "      <td>2009.0</td>\n",
       "      <td>Sports</td>\n",
       "      <td>Nintendo</td>\n",
       "      <td>15.75</td>\n",
       "      <td>11.01</td>\n",
       "      <td>3.28</td>\n",
       "      <td>2.96</td>\n",
       "      <td>33.00</td>\n",
       "    </tr>\n",
       "    <tr>\n",
       "      <th>4</th>\n",
       "      <td>4</td>\n",
       "      <td>5</td>\n",
       "      <td>Pokemon Red/Pokemon Blue</td>\n",
       "      <td>GB</td>\n",
       "      <td>1996.0</td>\n",
       "      <td>Role-Playing</td>\n",
       "      <td>Nintendo</td>\n",
       "      <td>11.27</td>\n",
       "      <td>8.89</td>\n",
       "      <td>10.22</td>\n",
       "      <td>1.00</td>\n",
       "      <td>31.37</td>\n",
       "    </tr>\n",
       "    <tr>\n",
       "      <th>...</th>\n",
       "      <td>...</td>\n",
       "      <td>...</td>\n",
       "      <td>...</td>\n",
       "      <td>...</td>\n",
       "      <td>...</td>\n",
       "      <td>...</td>\n",
       "      <td>...</td>\n",
       "      <td>...</td>\n",
       "      <td>...</td>\n",
       "      <td>...</td>\n",
       "      <td>...</td>\n",
       "      <td>...</td>\n",
       "    </tr>\n",
       "    <tr>\n",
       "      <th>16593</th>\n",
       "      <td>16593</td>\n",
       "      <td>16596</td>\n",
       "      <td>Woody Woodpecker in Crazy Castle 5</td>\n",
       "      <td>GBA</td>\n",
       "      <td>2002.0</td>\n",
       "      <td>Platform</td>\n",
       "      <td>Kemco</td>\n",
       "      <td>0.01</td>\n",
       "      <td>0.00</td>\n",
       "      <td>0.00</td>\n",
       "      <td>0.00</td>\n",
       "      <td>0.01</td>\n",
       "    </tr>\n",
       "    <tr>\n",
       "      <th>16594</th>\n",
       "      <td>16594</td>\n",
       "      <td>16597</td>\n",
       "      <td>Men in Black II: Alien Escape</td>\n",
       "      <td>GC</td>\n",
       "      <td>2003.0</td>\n",
       "      <td>Shooter</td>\n",
       "      <td>Infogrames</td>\n",
       "      <td>0.01</td>\n",
       "      <td>0.00</td>\n",
       "      <td>0.00</td>\n",
       "      <td>0.00</td>\n",
       "      <td>0.01</td>\n",
       "    </tr>\n",
       "    <tr>\n",
       "      <th>16595</th>\n",
       "      <td>16595</td>\n",
       "      <td>16598</td>\n",
       "      <td>SCORE International Baja 1000: The Official Game</td>\n",
       "      <td>PS2</td>\n",
       "      <td>2008.0</td>\n",
       "      <td>Racing</td>\n",
       "      <td>Activision</td>\n",
       "      <td>0.00</td>\n",
       "      <td>0.00</td>\n",
       "      <td>0.00</td>\n",
       "      <td>0.00</td>\n",
       "      <td>0.01</td>\n",
       "    </tr>\n",
       "    <tr>\n",
       "      <th>16596</th>\n",
       "      <td>16596</td>\n",
       "      <td>16599</td>\n",
       "      <td>Know How 2</td>\n",
       "      <td>DS</td>\n",
       "      <td>2010.0</td>\n",
       "      <td>Puzzle</td>\n",
       "      <td>7G//AMES</td>\n",
       "      <td>0.00</td>\n",
       "      <td>0.01</td>\n",
       "      <td>0.00</td>\n",
       "      <td>0.00</td>\n",
       "      <td>0.01</td>\n",
       "    </tr>\n",
       "    <tr>\n",
       "      <th>16597</th>\n",
       "      <td>16597</td>\n",
       "      <td>16600</td>\n",
       "      <td>Spirits &amp; Spells</td>\n",
       "      <td>GBA</td>\n",
       "      <td>2003.0</td>\n",
       "      <td>Platform</td>\n",
       "      <td>Wanadoo</td>\n",
       "      <td>0.01</td>\n",
       "      <td>0.00</td>\n",
       "      <td>0.00</td>\n",
       "      <td>0.00</td>\n",
       "      <td>0.01</td>\n",
       "    </tr>\n",
       "  </tbody>\n",
       "</table>\n",
       "<p>16598 rows × 12 columns</p>\n",
       "</div>"
      ],
      "text/plain": [
       "       index   Rank                                              Name  \\\n",
       "0          0      1                                        Wii Sports   \n",
       "1          1      2                                 Super Mario Bros.   \n",
       "2          2      3                                    Mario Kart Wii   \n",
       "3          3      4                                 Wii Sports Resort   \n",
       "4          4      5                          Pokemon Red/Pokemon Blue   \n",
       "...      ...    ...                                               ...   \n",
       "16593  16593  16596                Woody Woodpecker in Crazy Castle 5   \n",
       "16594  16594  16597                     Men in Black II: Alien Escape   \n",
       "16595  16595  16598  SCORE International Baja 1000: The Official Game   \n",
       "16596  16596  16599                                        Know How 2   \n",
       "16597  16597  16600                                  Spirits & Spells   \n",
       "\n",
       "      Platform    Year         Genre   Publisher  NA_Sales  EU_Sales  \\\n",
       "0          Wii  2006.0        Sports    Nintendo     41.49     29.02   \n",
       "1          NES  1985.0      Platform    Nintendo     29.08      3.58   \n",
       "2          Wii  2008.0        Racing    Nintendo     15.85     12.88   \n",
       "3          Wii  2009.0        Sports    Nintendo     15.75     11.01   \n",
       "4           GB  1996.0  Role-Playing    Nintendo     11.27      8.89   \n",
       "...        ...     ...           ...         ...       ...       ...   \n",
       "16593      GBA  2002.0      Platform       Kemco      0.01      0.00   \n",
       "16594       GC  2003.0       Shooter  Infogrames      0.01      0.00   \n",
       "16595      PS2  2008.0        Racing  Activision      0.00      0.00   \n",
       "16596       DS  2010.0        Puzzle    7G//AMES      0.00      0.01   \n",
       "16597      GBA  2003.0      Platform     Wanadoo      0.01      0.00   \n",
       "\n",
       "       JP_Sales  Other_Sales  Global_Sales  \n",
       "0          3.77         8.46         82.74  \n",
       "1          6.81         0.77         40.24  \n",
       "2          3.79         3.31         35.82  \n",
       "3          3.28         2.96         33.00  \n",
       "4         10.22         1.00         31.37  \n",
       "...         ...          ...           ...  \n",
       "16593      0.00         0.00          0.01  \n",
       "16594      0.00         0.00          0.01  \n",
       "16595      0.00         0.00          0.01  \n",
       "16596      0.00         0.00          0.01  \n",
       "16597      0.00         0.00          0.01  \n",
       "\n",
       "[16598 rows x 12 columns]"
      ]
     },
     "execution_count": 230,
     "metadata": {},
     "output_type": "execute_result"
    }
   ],
   "source": [
    "df.reset_index()"
   ]
  },
  {
   "cell_type": "markdown",
   "metadata": {
    "collapsed": false
   },
   "source": [
    "## Eliminación de columnas innecesarias\n",
    "\n",
    "Podemos eliminar columnas que no necesitaremos para futuros análisis. Por ejemplo, podemos eliminar la columna 'Rank'.\n"
   ]
  },
  {
   "cell_type": "code",
   "execution_count": 231,
   "metadata": {
    "collapsed": false
   },
   "outputs": [
    {
     "data": {
      "text/html": [
       "<div>\n",
       "<style scoped>\n",
       "    .dataframe tbody tr th:only-of-type {\n",
       "        vertical-align: middle;\n",
       "    }\n",
       "\n",
       "    .dataframe tbody tr th {\n",
       "        vertical-align: top;\n",
       "    }\n",
       "\n",
       "    .dataframe thead th {\n",
       "        text-align: right;\n",
       "    }\n",
       "</style>\n",
       "<table border=\"1\" class=\"dataframe\">\n",
       "  <thead>\n",
       "    <tr style=\"text-align: right;\">\n",
       "      <th></th>\n",
       "      <th>Name</th>\n",
       "      <th>Platform</th>\n",
       "      <th>Year</th>\n",
       "      <th>Genre</th>\n",
       "      <th>Publisher</th>\n",
       "      <th>NA_Sales</th>\n",
       "      <th>EU_Sales</th>\n",
       "      <th>JP_Sales</th>\n",
       "      <th>Other_Sales</th>\n",
       "      <th>Global_Sales</th>\n",
       "    </tr>\n",
       "  </thead>\n",
       "  <tbody>\n",
       "    <tr>\n",
       "      <th>0</th>\n",
       "      <td>Wii Sports</td>\n",
       "      <td>Wii</td>\n",
       "      <td>2006.0</td>\n",
       "      <td>Sports</td>\n",
       "      <td>Nintendo</td>\n",
       "      <td>41.49</td>\n",
       "      <td>29.02</td>\n",
       "      <td>3.77</td>\n",
       "      <td>8.46</td>\n",
       "      <td>82.74</td>\n",
       "    </tr>\n",
       "  </tbody>\n",
       "</table>\n",
       "</div>"
      ],
      "text/plain": [
       "         Name Platform    Year   Genre Publisher  NA_Sales  EU_Sales  \\\n",
       "0  Wii Sports      Wii  2006.0  Sports  Nintendo     41.49     29.02   \n",
       "\n",
       "   JP_Sales  Other_Sales  Global_Sales  \n",
       "0      3.77         8.46         82.74  "
      ]
     },
     "execution_count": 231,
     "metadata": {},
     "output_type": "execute_result"
    }
   ],
   "source": [
    "df = df.drop(columns=['Rank'])\n",
    "df.head(1)"
   ]
  },
  {
   "cell_type": "markdown",
   "metadata": {
    "collapsed": false
   },
   "source": [
    "## Identificación de Outliers\n",
    "\n",
    "Podemos usar el método del rango intercuartil (IQR) para detectar outliers en la columna 'Global_Sales'.\n",
    "\n",
    "Elimina los outliers u obtén un dataframe sin outliers en la columna GlobalSales."
   ]
  },
  {
   "cell_type": "code",
   "execution_count": 232,
   "metadata": {
    "collapsed": false
   },
   "outputs": [
    {
     "name": "stdout",
     "output_type": "stream",
     "text": [
      "                               Name Platform    Year         Genre  \\\n",
      "0                        Wii Sports      Wii  2006.0        Sports   \n",
      "1                 Super Mario Bros.      NES  1985.0      Platform   \n",
      "2                    Mario Kart Wii      Wii  2008.0        Racing   \n",
      "3                 Wii Sports Resort      Wii  2009.0        Sports   \n",
      "4          Pokemon Red/Pokemon Blue       GB  1996.0  Role-Playing   \n",
      "...                             ...      ...     ...           ...   \n",
      "1888  Sonic & Sega All-Stars Racing       DS  2010.0        Racing   \n",
      "1889              Skylanders Giants      PS3  2012.0        Action   \n",
      "1890                  Endless Ocean      Wii  2007.0     Adventure   \n",
      "1891                 NFL Blitz 2000       PS  1998.0        Sports   \n",
      "1892              Sonic Free Riders     X360  2010.0        Racing   \n",
      "\n",
      "         Publisher  NA_Sales  EU_Sales  JP_Sales  Other_Sales  Global_Sales  \n",
      "0         Nintendo     41.49     29.02      3.77         8.46         82.74  \n",
      "1         Nintendo     29.08      3.58      6.81         0.77         40.24  \n",
      "2         Nintendo     15.85     12.88      3.79         3.31         35.82  \n",
      "3         Nintendo     15.75     11.01      3.28         2.96         33.00  \n",
      "4         Nintendo     11.27      8.89     10.22         1.00         31.37  \n",
      "...            ...       ...       ...       ...          ...           ...  \n",
      "1888          Sega      0.44      0.54      0.00         0.11          1.09  \n",
      "1889    Activision      0.35      0.52      0.00         0.22          1.09  \n",
      "1890      Nintendo      0.44      0.47      0.09         0.09          1.09  \n",
      "1891  Midway Games      0.60      0.41      0.00         0.07          1.09  \n",
      "1892          Sega      0.74      0.26      0.00         0.09          1.09  \n",
      "\n",
      "[1891 rows x 10 columns]\n"
     ]
    }
   ],
   "source": [
    "\n",
    "Q1 = df['Global_Sales'].quantile(0.25)\n",
    "\n",
    "Q3 = df['Global_Sales'].quantile(0.75)\n",
    "\n",
    "IQR = Q3 - Q1\n",
    "\n",
    "limite_inferior = Q1 - 1.5 * IQR\n",
    "limite_superior = Q3 + 1.5 * IQR\n",
    "\n",
    "outliers = df[(df['Global_Sales'] < limite_inferior) | (df['Global_Sales'] > limite_superior)]\n",
    "\n",
    "print(outliers)"
   ]
  },
  {
   "cell_type": "code",
   "execution_count": 233,
   "metadata": {},
   "outputs": [
    {
     "name": "stdout",
     "output_type": "stream",
     "text": [
      "                               Name Platform    Year         Genre  \\\n",
      "0                        Wii Sports      Wii  2006.0        Sports   \n",
      "1                 Super Mario Bros.      NES  1985.0      Platform   \n",
      "2                    Mario Kart Wii      Wii  2008.0        Racing   \n",
      "3                 Wii Sports Resort      Wii  2009.0        Sports   \n",
      "4          Pokemon Red/Pokemon Blue       GB  1996.0  Role-Playing   \n",
      "...                             ...      ...     ...           ...   \n",
      "1888  Sonic & Sega All-Stars Racing       DS  2010.0        Racing   \n",
      "1889              Skylanders Giants      PS3  2012.0        Action   \n",
      "1890                  Endless Ocean      Wii  2007.0     Adventure   \n",
      "1891                 NFL Blitz 2000       PS  1998.0        Sports   \n",
      "1892              Sonic Free Riders     X360  2010.0        Racing   \n",
      "\n",
      "         Publisher  NA_Sales  EU_Sales  JP_Sales  Other_Sales  Global_Sales  \n",
      "0         Nintendo     41.49     29.02      3.77         8.46         82.74  \n",
      "1         Nintendo     29.08      3.58      6.81         0.77         40.24  \n",
      "2         Nintendo     15.85     12.88      3.79         3.31         35.82  \n",
      "3         Nintendo     15.75     11.01      3.28         2.96         33.00  \n",
      "4         Nintendo     11.27      8.89     10.22         1.00         31.37  \n",
      "...            ...       ...       ...       ...          ...           ...  \n",
      "1888          Sega      0.44      0.54      0.00         0.11          1.09  \n",
      "1889    Activision      0.35      0.52      0.00         0.22          1.09  \n",
      "1890      Nintendo      0.44      0.47      0.09         0.09          1.09  \n",
      "1891  Midway Games      0.60      0.41      0.00         0.07          1.09  \n",
      "1892          Sega      0.74      0.26      0.00         0.09          1.09  \n",
      "\n",
      "[1891 rows x 10 columns]\n"
     ]
    }
   ],
   "source": [
    "\n",
    "Q1 = df['Global_Sales'].quantile(0.25)\n",
    "\n",
    "Q3 = df['Global_Sales'].quantile(0.75)\n",
    "\n",
    "IQR = Q3 - Q1\n",
    "\n",
    "limite_inferior = Q1 - 1.5 * IQR\n",
    "limite_superior = Q3 + 1.5 * IQR\n",
    "\n",
    "sin_outliers = df[(df['Global_Sales'] <= limite_inferior) | (df['Global_Sales'] <= limite_superior)]\n",
    "\n",
    "print(outliers)"
   ]
  },
  {
   "cell_type": "markdown",
   "metadata": {
    "collapsed": false
   },
   "source": [
    "## Uso de apply para operaciones de columna\n",
    "\n",
    "Supongamos que queremos crear una nueva columna que sea GlobalSales pero con el IVA añadido, por ejemplo global_sales_iva"
   ]
  },
  {
   "cell_type": "code",
   "execution_count": 234,
   "metadata": {
    "collapsed": false
   },
   "outputs": [
    {
     "data": {
      "text/html": [
       "<div>\n",
       "<style scoped>\n",
       "    .dataframe tbody tr th:only-of-type {\n",
       "        vertical-align: middle;\n",
       "    }\n",
       "\n",
       "    .dataframe tbody tr th {\n",
       "        vertical-align: top;\n",
       "    }\n",
       "\n",
       "    .dataframe thead th {\n",
       "        text-align: right;\n",
       "    }\n",
       "</style>\n",
       "<table border=\"1\" class=\"dataframe\">\n",
       "  <thead>\n",
       "    <tr style=\"text-align: right;\">\n",
       "      <th></th>\n",
       "      <th>Name</th>\n",
       "      <th>Platform</th>\n",
       "      <th>Year</th>\n",
       "      <th>Genre</th>\n",
       "      <th>Publisher</th>\n",
       "      <th>NA_Sales</th>\n",
       "      <th>EU_Sales</th>\n",
       "      <th>JP_Sales</th>\n",
       "      <th>Other_Sales</th>\n",
       "      <th>Global_Sales</th>\n",
       "      <th>Global_Sales_Iva</th>\n",
       "    </tr>\n",
       "  </thead>\n",
       "  <tbody>\n",
       "    <tr>\n",
       "      <th>0</th>\n",
       "      <td>Wii Sports</td>\n",
       "      <td>Wii</td>\n",
       "      <td>2006.0</td>\n",
       "      <td>Sports</td>\n",
       "      <td>Nintendo</td>\n",
       "      <td>41.49</td>\n",
       "      <td>29.02</td>\n",
       "      <td>3.77</td>\n",
       "      <td>8.46</td>\n",
       "      <td>82.74</td>\n",
       "      <td>9.9288</td>\n",
       "    </tr>\n",
       "    <tr>\n",
       "      <th>1</th>\n",
       "      <td>Super Mario Bros.</td>\n",
       "      <td>NES</td>\n",
       "      <td>1985.0</td>\n",
       "      <td>Platform</td>\n",
       "      <td>Nintendo</td>\n",
       "      <td>29.08</td>\n",
       "      <td>3.58</td>\n",
       "      <td>6.81</td>\n",
       "      <td>0.77</td>\n",
       "      <td>40.24</td>\n",
       "      <td>4.8288</td>\n",
       "    </tr>\n",
       "  </tbody>\n",
       "</table>\n",
       "</div>"
      ],
      "text/plain": [
       "                Name Platform    Year     Genre Publisher  NA_Sales  EU_Sales  \\\n",
       "0         Wii Sports      Wii  2006.0    Sports  Nintendo     41.49     29.02   \n",
       "1  Super Mario Bros.      NES  1985.0  Platform  Nintendo     29.08      3.58   \n",
       "\n",
       "   JP_Sales  Other_Sales  Global_Sales  Global_Sales_Iva  \n",
       "0      3.77         8.46         82.74            9.9288  \n",
       "1      6.81         0.77         40.24            4.8288  "
      ]
     },
     "execution_count": 234,
     "metadata": {},
     "output_type": "execute_result"
    }
   ],
   "source": [
    "df['Global_Sales_Iva'] = df['Global_Sales'].apply(lambda Global_Sales: Global_Sales * 0.12)\n",
    "df.head(2)"
   ]
  },
  {
   "cell_type": "markdown",
   "metadata": {
    "collapsed": false
   },
   "source": [
    "## Uso de iloc para seleccionar datos\n",
    "\n",
    "iloc es útil para seleccionar filas y columnas por posición. Por ejemplo, si queremos seleccionar las primeras 5 filas y las primeras 3 columnas.\n"
   ]
  },
  {
   "cell_type": "code",
   "execution_count": 235,
   "metadata": {
    "collapsed": false
   },
   "outputs": [
    {
     "name": "stdout",
     "output_type": "stream",
     "text": [
      "                       Name Platform    Year         Genre Publisher  \\\n",
      "1         Super Mario Bros.      NES  1985.0      Platform  Nintendo   \n",
      "2            Mario Kart Wii      Wii  2008.0        Racing  Nintendo   \n",
      "3         Wii Sports Resort      Wii  2009.0        Sports  Nintendo   \n",
      "4  Pokemon Red/Pokemon Blue       GB  1996.0  Role-Playing  Nintendo   \n",
      "5                    Tetris       GB  1989.0        Puzzle  Nintendo   \n",
      "\n",
      "   NA_Sales  EU_Sales  JP_Sales  Other_Sales  Global_Sales  Global_Sales_Iva  \n",
      "1     29.08      3.58      6.81         0.77         40.24            4.8288  \n",
      "2     15.85     12.88      3.79         3.31         35.82            4.2984  \n",
      "3     15.75     11.01      3.28         2.96         33.00            3.9600  \n",
      "4     11.27      8.89     10.22         1.00         31.37            3.7644  \n",
      "5     23.20      2.26      4.22         0.58         30.26            3.6312  \n"
     ]
    }
   ],
   "source": [
    "filas = df.iloc[1:6]\n",
    "\n",
    "print(filas)\n"
   ]
  },
  {
   "cell_type": "code",
   "execution_count": 236,
   "metadata": {},
   "outputs": [
    {
     "name": "stdout",
     "output_type": "stream",
     "text": [
      "      Platform    Year         Genre\n",
      "0          Wii  2006.0        Sports\n",
      "1          NES  1985.0      Platform\n",
      "2          Wii  2008.0        Racing\n",
      "3          Wii  2009.0        Sports\n",
      "4           GB  1996.0  Role-Playing\n",
      "...        ...     ...           ...\n",
      "16593      GBA  2002.0      Platform\n",
      "16594       GC  2003.0       Shooter\n",
      "16595      PS2  2008.0        Racing\n",
      "16596       DS  2010.0        Puzzle\n",
      "16597      GBA  2003.0      Platform\n",
      "\n",
      "[16598 rows x 3 columns]\n"
     ]
    }
   ],
   "source": [
    "columnas = df.iloc[:, 1:4]\n",
    "\n",
    "print(columnas)"
   ]
  },
  {
   "cell_type": "markdown",
   "metadata": {
    "collapsed": false
   },
   "source": [
    "## Guardar DataFrame\n",
    "\n",
    "Finalmente, guardamos el DataFrame con todas las nuevas características y transformaciones en un nuevo archivo CSV.\n"
   ]
  },
  {
   "cell_type": "code",
   "execution_count": 237,
   "metadata": {
    "collapsed": false
   },
   "outputs": [],
   "source": [
    "df.to_csv('dataframe_caso_practico_pandas.csv', index=False)"
   ]
  },
  {
   "cell_type": "code",
   "execution_count": 238,
   "metadata": {},
   "outputs": [],
   "source": [
    "df.to_csv('../m4-pandas/dataframe_caso_practico_pandas.csv', index=False)"
   ]
  }
 ],
 "metadata": {
  "kernelspec": {
   "display_name": "Python 3",
   "language": "python",
   "name": "python3"
  },
  "language_info": {
   "codemirror_mode": {
    "name": "ipython",
    "version": 3
   },
   "file_extension": ".py",
   "mimetype": "text/x-python",
   "name": "python",
   "nbconvert_exporter": "python",
   "pygments_lexer": "ipython3",
   "version": "3.11.3"
  }
 },
 "nbformat": 4,
 "nbformat_minor": 0
}
