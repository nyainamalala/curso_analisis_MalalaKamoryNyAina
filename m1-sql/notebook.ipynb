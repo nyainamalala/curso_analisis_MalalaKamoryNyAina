{
 "cells": [
  {
   "attachments": {},
   "cell_type": "markdown",
   "metadata": {},
   "source": [
    "# El ejercicio SQL da resultados así"
   ]
  },
  {
   "attachments": {},
   "cell_type": "markdown",
   "metadata": {},
   "source": [
    "* 3, Youssouf,Bangoura, youssouf.bangoura@gmail.com, 665482462, calle de Camarena 145\n",
    "* 5, Juan,Benito, juan.benito@gmail.com, 6987596420, Calle del Cozazón 35\n",
    "* 1, Malala,Kamory, malala.kamory@gmail.com, 624498083, Calle de los Tejedores 15\n",
    "* 2, Fitiavana,Nirina, fitia.nirina@gmail.com, 643216542, Calle de Candilejas  58 \n",
    "* 4, Maria angeles,Rubia, mangeles.rubia@gmail.com, 625431526, Calle de Mijas 67"
   ]
  },
  {
   "attachments": {},
   "cell_type": "markdown",
   "metadata": {},
   "source": [
    "# los productos con un stock inferior a 10"
   ]
  },
  {
   "attachments": {},
   "cell_type": "markdown",
   "metadata": {},
   "source": [
    "* 204, Cerradura electrónica, \"Inteligente, contraseña huellas\", 117.08,9\n",
    "* 208, Iphone 14, \"612 GB, waterproof, inteligente\", 1289,5"
   ]
  },
  {
   "attachments": {},
   "cell_type": "markdown",
   "metadata": {},
   "source": [
    "# Los pedidos realizados por un cliente específico (por id_cliente)"
   ]
  },
  {
   "attachments": {},
   "cell_type": "markdown",
   "metadata": {},
   "source": [
    "id_cliente 204\n",
    "\n",
    "* 304, 204, 2023-07-29"
   ]
  },
  {
   "cell_type": "markdown",
   "metadata": {},
   "source": []
  },
  {
   "attachments": {},
   "cell_type": "markdown",
   "metadata": {},
   "source": [
    "# El total de ventas (precio * cantidad)por cada pedido"
   ]
  },
  {
   "attachments": {},
   "cell_type": "markdown",
   "metadata": {},
   "source": [
    "precio (24.99) por (15)\n",
    "\n",
    "* 301, 374.85\n",
    "* 302, 374.85\n",
    "* 303, 374.85\n",
    "* 304, 374.85\n",
    "* 305, 374.85\n",
    "* 306, 374.85\n",
    "* 307, 374.85\n",
    "* 308, 374.85\n",
    "* 309, 374.85\n",
    "* 310, 374.85\n",
    "\n",
    "me salio en la primera fila los id_pedidos"
   ]
  },
  {
   "attachments": {},
   "cell_type": "markdown",
   "metadata": {},
   "source": [
    "# El pedido con la mayor cantidad de productos diferentes"
   ]
  },
  {
   "attachments": {},
   "cell_type": "markdown",
   "metadata": {},
   "source": [
    "* 301, 1\n",
    "* 302, 1\n",
    "* 303, 1\n",
    "* 304, 1\n",
    "* 305, 1\n",
    "* 306, 1\n",
    "* 307, 1\n",
    "* 308, 1 \n",
    "* 309, 1\n",
    "* 310, 1"
   ]
  }
 ],
 "metadata": {
  "language_info": {
   "name": "python"
  },
  "orig_nbformat": 4
 },
 "nbformat": 4,
 "nbformat_minor": 2
}
