{
 "cells": [
  {
   "attachments": {},
   "cell_type": "markdown",
   "metadata": {},
   "source": [
    "# < caso practico >\n",
    "### Numpy videojuegos"
   ]
  },
  {
   "cell_type": "code",
   "execution_count": 72,
   "metadata": {},
   "outputs": [],
   "source": [
    "import numpy as np\n",
    "import urllib\n",
    "from scipy import stats "
   ]
  },
  {
   "cell_type": "code",
   "execution_count": 73,
   "metadata": {},
   "outputs": [
    {
     "ename": "ValueError",
     "evalue": "Some errors were detected !\n    Line #4 (got 1 columns instead of 2)\n    Line #5 (got 5 columns instead of 2)\n    Line #6 (got 3 columns instead of 2)\n    Line #7 (got 5 columns instead of 2)\n    Line #8 (got 11 columns instead of 2)\n    Line #9 (got 4 columns instead of 2)\n    Line #10 (got 5 columns instead of 2)\n    Line #11 (got 6 columns instead of 2)\n    Line #12 (got 3 columns instead of 2)\n    Line #14 (got 3 columns instead of 2)\n    Line #15 (got 3 columns instead of 2)\n    Line #16 (got 4 columns instead of 2)\n    Line #17 (got 1 columns instead of 2)\n    Line #18 (got 14 columns instead of 2)\n    Line #19 (got 6 columns instead of 2)\n    Line #20 (got 4 columns instead of 2)\n    Line #23 (got 5 columns instead of 2)\n    Line #25 (got 3 columns instead of 2)\n    Line #27 (got 3 columns instead of 2)\n    Line #29 (got 4 columns instead of 2)\n    Line #31 (got 4 columns instead of 2)\n    Line #33 (got 5 columns instead of 2)\n    Line #34 (got 3 columns instead of 2)\n    Line #35 (got 3 columns instead of 2)\n    Line #36 (got 3 columns instead of 2)\n    Line #37 (got 1 columns instead of 2)\n    Line #38 (got 1 columns instead of 2)\n    Line #39 (got 1 columns instead of 2)\n    Line #41 (got 4 columns instead of 2)\n    Line #42 (got 5 columns instead of 2)\n    Line #43 (got 5 columns instead of 2)\n    Line #48 (got 1 columns instead of 2)\n    Line #49 (got 1 columns instead of 2)\n    Line #50 (got 9 columns instead of 2)\n    Line #51 (got 8 columns instead of 2)\n    Line #52 (got 1 columns instead of 2)\n    Line #53 (got 1 columns instead of 2)\n    Line #54 (got 1 columns instead of 2)\n    Line #56 (got 5 columns instead of 2)\n    Line #57 (got 5 columns instead of 2)\n    Line #58 (got 3 columns instead of 2)\n    Line #59 (got 3 columns instead of 2)\n    Line #64 (got 1 columns instead of 2)\n    Line #65 (got 1 columns instead of 2)\n    Line #70 (got 4 columns instead of 2)\n    Line #71 (got 6 columns instead of 2)\n    Line #72 (got 11 columns instead of 2)\n    Line #73 (got 4 columns instead of 2)\n    Line #74 (got 4 columns instead of 2)\n    Line #75 (got 4 columns instead of 2)\n    Line #78 (got 4 columns instead of 2)\n    Line #79 (got 4 columns instead of 2)\n    Line #82 (got 4 columns instead of 2)\n    Line #85 (got 151 columns instead of 2)\n    Line #97 (got 3 columns instead of 2)\n    Line #98 (got 1 columns instead of 2)\n    Line #99 (got 4 columns instead of 2)\n    Line #100 (got 4 columns instead of 2)\n    Line #101 (got 4 columns instead of 2)\n    Line #103 (got 3 columns instead of 2)\n    Line #109 (got 1 columns instead of 2)\n    Line #110 (got 1 columns instead of 2)\n    Line #111 (got 1 columns instead of 2)\n    Line #114 (got 1 columns instead of 2)\n    Line #123 (got 3 columns instead of 2)\n    Line #126 (got 236 columns instead of 2)\n    Line #127 (got 1 columns instead of 2)\n    Line #130 (got 3 columns instead of 2)\n    Line #133 (got 1 columns instead of 2)\n    Line #134 (got 6 columns instead of 2)\n    Line #135 (got 1 columns instead of 2)\n    Line #137 (got 5 columns instead of 2)\n    Line #138 (got 5 columns instead of 2)\n    Line #141 (got 1 columns instead of 2)\n    Line #148 (got 1 columns instead of 2)\n    Line #149 (got 1 columns instead of 2)\n    Line #150 (got 1 columns instead of 2)\n    Line #153 (got 1 columns instead of 2)\n    Line #157 (got 1 columns instead of 2)\n    Line #158 (got 1 columns instead of 2)\n    Line #159 (got 3 columns instead of 2)\n    Line #160 (got 4 columns instead of 2)\n    Line #161 (got 4 columns instead of 2)\n    Line #162 (got 5 columns instead of 2)\n    Line #163 (got 8 columns instead of 2)\n    Line #165 (got 4 columns instead of 2)\n    Line #166 (got 3 columns instead of 2)\n    Line #167 (got 3 columns instead of 2)\n    Line #168 (got 1 columns instead of 2)\n    Line #169 (got 1 columns instead of 2)\n    Line #170 (got 1 columns instead of 2)\n    Line #176 (got 1 columns instead of 2)\n    Line #181 (got 1 columns instead of 2)\n    Line #182 (got 1 columns instead of 2)\n    Line #184 (got 1 columns instead of 2)",
     "output_type": "error",
     "traceback": [
      "\u001b[1;31m---------------------------------------------------------------------------\u001b[0m",
      "\u001b[1;31mValueError\u001b[0m                                Traceback (most recent call last)",
      "Cell \u001b[1;32mIn[73], line 3\u001b[0m\n\u001b[0;32m      1\u001b[0m videojuego \u001b[39m=\u001b[39m urllib\u001b[39m.\u001b[39mrequest\u001b[39m.\u001b[39murlopen(\u001b[39m'\u001b[39m\u001b[39mhttps://www.kaggle.com/gregorut/videogamesales\u001b[39m\u001b[39m'\u001b[39m)\n\u001b[1;32m----> 3\u001b[0m dataset \u001b[39m=\u001b[39m np\u001b[39m.\u001b[39;49mgenfromtxt(videojuego, dtype\u001b[39m=\u001b[39;49m\u001b[39mfloat\u001b[39;49m)\n\u001b[0;32m      4\u001b[0m dataset[:\u001b[39m20\u001b[39m]\n",
      "File \u001b[1;32mc:\\Users\\Malala Severien\\AppData\\Local\\Programs\\Python\\Python311\\Lib\\site-packages\\numpy\\lib\\npyio.py:2312\u001b[0m, in \u001b[0;36mgenfromtxt\u001b[1;34m(fname, dtype, comments, delimiter, skip_header, skip_footer, converters, missing_values, filling_values, usecols, names, excludelist, deletechars, replace_space, autostrip, case_sensitive, defaultfmt, unpack, usemask, loose, invalid_raise, max_rows, encoding, ndmin, like)\u001b[0m\n\u001b[0;32m   2310\u001b[0m \u001b[39m# Raise an exception ?\u001b[39;00m\n\u001b[0;32m   2311\u001b[0m \u001b[39mif\u001b[39;00m invalid_raise:\n\u001b[1;32m-> 2312\u001b[0m     \u001b[39mraise\u001b[39;00m \u001b[39mValueError\u001b[39;00m(errmsg)\n\u001b[0;32m   2313\u001b[0m \u001b[39m# Issue a warning ?\u001b[39;00m\n\u001b[0;32m   2314\u001b[0m \u001b[39melse\u001b[39;00m:\n\u001b[0;32m   2315\u001b[0m     warnings\u001b[39m.\u001b[39mwarn(errmsg, ConversionWarning, stacklevel\u001b[39m=\u001b[39m\u001b[39m2\u001b[39m)\n",
      "\u001b[1;31mValueError\u001b[0m: Some errors were detected !\n    Line #4 (got 1 columns instead of 2)\n    Line #5 (got 5 columns instead of 2)\n    Line #6 (got 3 columns instead of 2)\n    Line #7 (got 5 columns instead of 2)\n    Line #8 (got 11 columns instead of 2)\n    Line #9 (got 4 columns instead of 2)\n    Line #10 (got 5 columns instead of 2)\n    Line #11 (got 6 columns instead of 2)\n    Line #12 (got 3 columns instead of 2)\n    Line #14 (got 3 columns instead of 2)\n    Line #15 (got 3 columns instead of 2)\n    Line #16 (got 4 columns instead of 2)\n    Line #17 (got 1 columns instead of 2)\n    Line #18 (got 14 columns instead of 2)\n    Line #19 (got 6 columns instead of 2)\n    Line #20 (got 4 columns instead of 2)\n    Line #23 (got 5 columns instead of 2)\n    Line #25 (got 3 columns instead of 2)\n    Line #27 (got 3 columns instead of 2)\n    Line #29 (got 4 columns instead of 2)\n    Line #31 (got 4 columns instead of 2)\n    Line #33 (got 5 columns instead of 2)\n    Line #34 (got 3 columns instead of 2)\n    Line #35 (got 3 columns instead of 2)\n    Line #36 (got 3 columns instead of 2)\n    Line #37 (got 1 columns instead of 2)\n    Line #38 (got 1 columns instead of 2)\n    Line #39 (got 1 columns instead of 2)\n    Line #41 (got 4 columns instead of 2)\n    Line #42 (got 5 columns instead of 2)\n    Line #43 (got 5 columns instead of 2)\n    Line #48 (got 1 columns instead of 2)\n    Line #49 (got 1 columns instead of 2)\n    Line #50 (got 9 columns instead of 2)\n    Line #51 (got 8 columns instead of 2)\n    Line #52 (got 1 columns instead of 2)\n    Line #53 (got 1 columns instead of 2)\n    Line #54 (got 1 columns instead of 2)\n    Line #56 (got 5 columns instead of 2)\n    Line #57 (got 5 columns instead of 2)\n    Line #58 (got 3 columns instead of 2)\n    Line #59 (got 3 columns instead of 2)\n    Line #64 (got 1 columns instead of 2)\n    Line #65 (got 1 columns instead of 2)\n    Line #70 (got 4 columns instead of 2)\n    Line #71 (got 6 columns instead of 2)\n    Line #72 (got 11 columns instead of 2)\n    Line #73 (got 4 columns instead of 2)\n    Line #74 (got 4 columns instead of 2)\n    Line #75 (got 4 columns instead of 2)\n    Line #78 (got 4 columns instead of 2)\n    Line #79 (got 4 columns instead of 2)\n    Line #82 (got 4 columns instead of 2)\n    Line #85 (got 151 columns instead of 2)\n    Line #97 (got 3 columns instead of 2)\n    Line #98 (got 1 columns instead of 2)\n    Line #99 (got 4 columns instead of 2)\n    Line #100 (got 4 columns instead of 2)\n    Line #101 (got 4 columns instead of 2)\n    Line #103 (got 3 columns instead of 2)\n    Line #109 (got 1 columns instead of 2)\n    Line #110 (got 1 columns instead of 2)\n    Line #111 (got 1 columns instead of 2)\n    Line #114 (got 1 columns instead of 2)\n    Line #123 (got 3 columns instead of 2)\n    Line #126 (got 236 columns instead of 2)\n    Line #127 (got 1 columns instead of 2)\n    Line #130 (got 3 columns instead of 2)\n    Line #133 (got 1 columns instead of 2)\n    Line #134 (got 6 columns instead of 2)\n    Line #135 (got 1 columns instead of 2)\n    Line #137 (got 5 columns instead of 2)\n    Line #138 (got 5 columns instead of 2)\n    Line #141 (got 1 columns instead of 2)\n    Line #148 (got 1 columns instead of 2)\n    Line #149 (got 1 columns instead of 2)\n    Line #150 (got 1 columns instead of 2)\n    Line #153 (got 1 columns instead of 2)\n    Line #157 (got 1 columns instead of 2)\n    Line #158 (got 1 columns instead of 2)\n    Line #159 (got 3 columns instead of 2)\n    Line #160 (got 4 columns instead of 2)\n    Line #161 (got 4 columns instead of 2)\n    Line #162 (got 5 columns instead of 2)\n    Line #163 (got 8 columns instead of 2)\n    Line #165 (got 4 columns instead of 2)\n    Line #166 (got 3 columns instead of 2)\n    Line #167 (got 3 columns instead of 2)\n    Line #168 (got 1 columns instead of 2)\n    Line #169 (got 1 columns instead of 2)\n    Line #170 (got 1 columns instead of 2)\n    Line #176 (got 1 columns instead of 2)\n    Line #181 (got 1 columns instead of 2)\n    Line #182 (got 1 columns instead of 2)\n    Line #184 (got 1 columns instead of 2)"
     ]
    }
   ],
   "source": [
    "videojuego = urllib.request.urlopen('https://www.kaggle.com/gregorut/videogamesales')\n",
    "\n",
    "dataset = np.genfromtxt(videojuego, dtype=float)\n",
    "dataset[:20]"
   ]
  },
  {
   "cell_type": "code",
   "execution_count": null,
   "metadata": {},
   "outputs": [],
   "source": [
    "np"
   ]
  },
  {
   "cell_type": "code",
   "execution_count": null,
   "metadata": {},
   "outputs": [
    {
     "ename": "AttributeError",
     "evalue": "module 'numpy' has no attribute 'arrays'",
     "output_type": "error",
     "traceback": [
      "\u001b[1;31m---------------------------------------------------------------------------\u001b[0m",
      "\u001b[1;31mAttributeError\u001b[0m                            Traceback (most recent call last)",
      "Cell \u001b[1;32mIn[60], line 1\u001b[0m\n\u001b[1;32m----> 1\u001b[0m datos \u001b[39m=\u001b[39m np\u001b[39m.\u001b[39;49marrays([\u001b[39m1\u001b[39m, \u001b[39m2\u001b[39m, \u001b[39m3\u001b[39m, \u001b[39m4\u001b[39m, \u001b[39m5\u001b[39m, \u001b[39m6\u001b[39m, \u001b[39m7\u001b[39m, \u001b[39m8\u001b[39m, \u001b[39m9\u001b[39m])\n\u001b[0;32m      2\u001b[0m \u001b[39mprint\u001b[39m(datos)\n",
      "File \u001b[1;32mc:\\Users\\Malala Severien\\AppData\\Local\\Programs\\Python\\Python311\\Lib\\site-packages\\numpy\\__init__.py:322\u001b[0m, in \u001b[0;36m__getattr__\u001b[1;34m(attr)\u001b[0m\n\u001b[0;32m    319\u001b[0m     \u001b[39m\"\u001b[39m\u001b[39mRemoved in NumPy 1.25.0\u001b[39m\u001b[39m\"\u001b[39m\n\u001b[0;32m    320\u001b[0m     \u001b[39mraise\u001b[39;00m \u001b[39mRuntimeError\u001b[39;00m(\u001b[39m\"\u001b[39m\u001b[39mTester was removed in NumPy 1.25.\u001b[39m\u001b[39m\"\u001b[39m)\n\u001b[1;32m--> 322\u001b[0m \u001b[39mraise\u001b[39;00m \u001b[39mAttributeError\u001b[39;00m(\u001b[39m\"\u001b[39m\u001b[39mmodule \u001b[39m\u001b[39m{!r}\u001b[39;00m\u001b[39m has no attribute \u001b[39m\u001b[39m\"\u001b[39m\n\u001b[0;32m    323\u001b[0m                      \u001b[39m\"\u001b[39m\u001b[39m{!r}\u001b[39;00m\u001b[39m\"\u001b[39m\u001b[39m.\u001b[39mformat(\u001b[39m__name__\u001b[39m, attr))\n",
      "\u001b[1;31mAttributeError\u001b[0m: module 'numpy' has no attribute 'arrays'"
     ]
    }
   ],
   "source": [
    "datos = np.arrays([1, 2, 3, 4, 5, 6, 7, 8, 9])\n",
    "print(datos)"
   ]
  }
 ],
 "metadata": {
  "kernelspec": {
   "display_name": "Python 3",
   "language": "python",
   "name": "python3"
  },
  "language_info": {
   "codemirror_mode": {
    "name": "ipython",
    "version": 3
   },
   "file_extension": ".py",
   "mimetype": "text/x-python",
   "name": "python",
   "nbconvert_exporter": "python",
   "pygments_lexer": "ipython3",
   "version": "3.11.3"
  },
  "orig_nbformat": 4
 },
 "nbformat": 4,
 "nbformat_minor": 2
}
