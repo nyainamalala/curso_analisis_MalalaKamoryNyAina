{
 "cells": [
  {
   "attachments": {},
   "cell_type": "markdown",
   "metadata": {},
   "source": [
    "# < caso practico Numpy >\n",
    "### videojuegos"
   ]
  },
  {
   "cell_type": "markdown",
   "metadata": {},
   "source": [
    "### 1- Introduccíon"
   ]
  },
  {
   "cell_type": "markdown",
   "metadata": {},
   "source": [
    "IMPORTACIÓN DE NUMPY Y PANDAS PARA TRABAJAR CON ELLOS Y ABRIR EL ARCHIVO CSV "
   ]
  },
  {
   "cell_type": "code",
   "execution_count": 216,
   "metadata": {},
   "outputs": [],
   "source": [
    "import numpy as np\n",
    "import pandas as pd\n",
    "import urllib"
   ]
  },
  {
   "cell_type": "markdown",
   "metadata": {},
   "source": [
    "VERSIÓN DE NUMPY INSTALADO"
   ]
  },
  {
   "cell_type": "code",
   "execution_count": 217,
   "metadata": {},
   "outputs": [
    {
     "name": "stdout",
     "output_type": "stream",
     "text": [
      "1.25.0\n"
     ]
    }
   ],
   "source": [
    "print(np.__version__)"
   ]
  },
  {
   "cell_type": "markdown",
   "metadata": {},
   "source": [
    "LEER EL ARCHIVO CSV"
   ]
  },
  {
   "cell_type": "code",
   "execution_count": 218,
   "metadata": {},
   "outputs": [
    {
     "data": {
      "text/html": [
       "<div>\n",
       "<style scoped>\n",
       "    .dataframe tbody tr th:only-of-type {\n",
       "        vertical-align: middle;\n",
       "    }\n",
       "\n",
       "    .dataframe tbody tr th {\n",
       "        vertical-align: top;\n",
       "    }\n",
       "\n",
       "    .dataframe thead th {\n",
       "        text-align: right;\n",
       "    }\n",
       "</style>\n",
       "<table border=\"1\" class=\"dataframe\">\n",
       "  <thead>\n",
       "    <tr style=\"text-align: right;\">\n",
       "      <th></th>\n",
       "      <th>Rank</th>\n",
       "      <th>Name</th>\n",
       "      <th>Platform</th>\n",
       "      <th>Year</th>\n",
       "      <th>Genre</th>\n",
       "      <th>Publisher</th>\n",
       "      <th>NA_Sales</th>\n",
       "      <th>EU_Sales</th>\n",
       "      <th>JP_Sales</th>\n",
       "      <th>Other_Sales</th>\n",
       "      <th>Global_Sales</th>\n",
       "    </tr>\n",
       "  </thead>\n",
       "  <tbody>\n",
       "    <tr>\n",
       "      <th>0</th>\n",
       "      <td>1</td>\n",
       "      <td>Wii Sports</td>\n",
       "      <td>Wii</td>\n",
       "      <td>2006.0</td>\n",
       "      <td>Sports</td>\n",
       "      <td>Nintendo</td>\n",
       "      <td>41.49</td>\n",
       "      <td>29.02</td>\n",
       "      <td>3.77</td>\n",
       "      <td>8.46</td>\n",
       "      <td>82.74</td>\n",
       "    </tr>\n",
       "    <tr>\n",
       "      <th>1</th>\n",
       "      <td>2</td>\n",
       "      <td>Super Mario Bros.</td>\n",
       "      <td>NES</td>\n",
       "      <td>1985.0</td>\n",
       "      <td>Platform</td>\n",
       "      <td>Nintendo</td>\n",
       "      <td>29.08</td>\n",
       "      <td>3.58</td>\n",
       "      <td>6.81</td>\n",
       "      <td>0.77</td>\n",
       "      <td>40.24</td>\n",
       "    </tr>\n",
       "  </tbody>\n",
       "</table>\n",
       "</div>"
      ],
      "text/plain": [
       "   Rank               Name Platform    Year     Genre Publisher  NA_Sales  \\\n",
       "0     1         Wii Sports      Wii  2006.0    Sports  Nintendo     41.49   \n",
       "1     2  Super Mario Bros.      NES  1985.0  Platform  Nintendo     29.08   \n",
       "\n",
       "   EU_Sales  JP_Sales  Other_Sales  Global_Sales  \n",
       "0     29.02      3.77         8.46         82.74  \n",
       "1      3.58      6.81         0.77         40.24  "
      ]
     },
     "execution_count": 218,
     "metadata": {},
     "output_type": "execute_result"
    }
   ],
   "source": [
    "df = pd.read_csv('../data/vgsales.csv')\n",
    "df.head(2)"
   ]
  },
  {
   "cell_type": "markdown",
   "metadata": {},
   "source": [
    "# Cargar Datos"
   ]
  },
  {
   "cell_type": "code",
   "execution_count": 219,
   "metadata": {},
   "outputs": [],
   "source": [
    "array1 = df['Rank'].values\n",
    "array2 = df['Name'].values\n",
    "array3 = df['Platform'].values\n",
    "array4 = df['Year'].values\n",
    "array5 = df['Genre'].values\n",
    "array6 = df['Publisher'].values\n",
    "array7 = df['NA_Sales'].values\n",
    "array8 = df['EU_Sales'].values\n",
    "array9 = df['JP_Sales'].values\n",
    "array10 = df['Other_Sales'].values\n",
    "array11 = df['Global_Sales'].values\n"
   ]
  },
  {
   "cell_type": "markdown",
   "metadata": {},
   "source": [
    "# Ejercicios"
   ]
  },
  {
   "cell_type": "markdown",
   "metadata": {},
   "source": [
    "### 3.1. Análisis Descriptivo de las Ventas Globales"
   ]
  },
  {
   "cell_type": "code",
   "execution_count": 220,
   "metadata": {},
   "outputs": [
    {
     "data": {
      "text/plain": [
       "numpy.ndarray"
      ]
     },
     "execution_count": 220,
     "metadata": {},
     "output_type": "execute_result"
    }
   ],
   "source": [
    "type(array11)"
   ]
  },
  {
   "cell_type": "code",
   "execution_count": 221,
   "metadata": {},
   "outputs": [],
   "source": [
    "Ventas_Globales = array11"
   ]
  },
  {
   "cell_type": "markdown",
   "metadata": {},
   "source": [
    "PROMEDIO"
   ]
  },
  {
   "cell_type": "code",
   "execution_count": 222,
   "metadata": {},
   "outputs": [
    {
     "name": "stdout",
     "output_type": "stream",
     "text": [
      "Venta promedio es : 0.5374406555006628\n"
     ]
    }
   ],
   "source": [
    "Ventas_promedio = np.mean(Ventas_Globales)\n",
    "print('Venta promedio es :', Ventas_promedio)"
   ]
  },
  {
   "cell_type": "markdown",
   "metadata": {},
   "source": [
    "MEDIANA"
   ]
  },
  {
   "cell_type": "code",
   "execution_count": 223,
   "metadata": {},
   "outputs": [
    {
     "name": "stdout",
     "output_type": "stream",
     "text": [
      "Venta mediana es : 0.17\n"
     ]
    }
   ],
   "source": [
    "Ventas_mediana = np.median(Ventas_Globales)\n",
    "print('Venta mediana es :', Ventas_mediana)"
   ]
  },
  {
   "cell_type": "markdown",
   "metadata": {},
   "source": [
    "MODA"
   ]
  },
  {
   "cell_type": "code",
   "execution_count": 224,
   "metadata": {},
   "outputs": [],
   "source": [
    "from scipy import stats"
   ]
  },
  {
   "cell_type": "code",
   "execution_count": 225,
   "metadata": {},
   "outputs": [
    {
     "name": "stdout",
     "output_type": "stream",
     "text": [
      "Venta moda es : ModeResult(mode=0.02, count=1071)\n"
     ]
    }
   ],
   "source": [
    "Ventas_moda = stats.mode(Ventas_Globales)\n",
    "print('Venta moda es :', Ventas_moda)"
   ]
  },
  {
   "cell_type": "markdown",
   "metadata": {},
   "source": [
    "DESVIACIÓN"
   ]
  },
  {
   "cell_type": "code",
   "execution_count": 226,
   "metadata": {},
   "outputs": [
    {
     "name": "stdout",
     "output_type": "stream",
     "text": [
      "Desviación estandar es : 1.5549810910296606\n"
     ]
    }
   ],
   "source": [
    "Ventas_estandar = np.std(Ventas_Globales)\n",
    "print('Desviación estandar es :', Ventas_estandar)"
   ]
  },
  {
   "cell_type": "markdown",
   "metadata": {},
   "source": [
    "### 3.2 Análisis de Ventas por Género"
   ]
  },
  {
   "cell_type": "markdown",
   "metadata": {},
   "source": [
    "LOS TRES GÉNEROS DE VIDEOJUEGOS QUE GENERAN LAS MAYORES VENTAS GLOBALES"
   ]
  },
  {
   "cell_type": "code",
   "execution_count": 227,
   "metadata": {},
   "outputs": [
    {
     "name": "stdout",
     "output_type": "stream",
     "text": [
      "['Sports' 'Platform' 'Racing' ... 'Racing' 'Puzzle' 'Platform']\n"
     ]
    }
   ],
   "source": [
    "print(array5)"
   ]
  },
  {
   "cell_type": "code",
   "execution_count": 228,
   "metadata": {},
   "outputs": [
    {
     "name": "stdout",
     "output_type": "stream",
     "text": [
      "[8.274e+01 4.024e+01 3.582e+01 ... 1.000e-02 1.000e-02 1.000e-02]\n"
     ]
    }
   ],
   "source": [
    "print(array11)"
   ]
  },
  {
   "cell_type": "code",
   "execution_count": 229,
   "metadata": {},
   "outputs": [],
   "source": [
    "generos = np.array([\"Sports\", \"Platform\", \"Racing\", \"Puzzle\"])\n",
    "ventas = np.array([8.274e+01, 4.024e+01, 3.582e+01, 1.000e-02])"
   ]
  },
  {
   "cell_type": "code",
   "execution_count": 230,
   "metadata": {},
   "outputs": [],
   "source": [
    "unique_generos = np.unique(generos)\n",
    "ventas_por_genero = np.zeros(len(unique_generos))\n",
    "\n",
    "for i, genero in enumerate(unique_generos):\n",
    "    ventas_por_genero[i] = np.sum(ventas[generos == genero])\n",
    "    "
   ]
  },
  {
   "cell_type": "code",
   "execution_count": 231,
   "metadata": {},
   "outputs": [],
   "source": [
    "indices = np.argsort(ventas_por_genero)[::-1]\n",
    "\n",
    "resultado = unique_generos[indices[:3]]"
   ]
  },
  {
   "cell_type": "code",
   "execution_count": 232,
   "metadata": {},
   "outputs": [
    {
     "name": "stdout",
     "output_type": "stream",
     "text": [
      "Los tres géneros de videojuegos con mayor ventas globales son:\n",
      "Sports\n",
      "Platform\n",
      "Racing\n"
     ]
    }
   ],
   "source": [
    "print('Los tres géneros de videojuegos con mayor ventas globales son:')\n",
    "for genero in resultado:\n",
    "    print(genero)"
   ]
  },
  {
   "cell_type": "markdown",
   "metadata": {},
   "source": [
    "### 3.3 Análisis de Ventas por Año"
   ]
  },
  {
   "cell_type": "markdown",
   "metadata": {},
   "source": [
    "Encontrar el año con las mayores ventas globales de videojuegos."
   ]
  },
  {
   "cell_type": "code",
   "execution_count": 233,
   "metadata": {},
   "outputs": [
    {
     "name": "stdout",
     "output_type": "stream",
     "text": [
      "[1980. 1981. 1982. 1983. 1984. 1985. 1986. 1987. 1988. 1989. 1990. 1991.\n",
      " 1992. 1993. 1994. 1995. 1996. 1997. 1998. 1999. 2000. 2001. 2002. 2003.\n",
      " 2004. 2005. 2006. 2007. 2008. 2009. 2010. 2011. 2012. 2013. 2014. 2015.\n",
      " 2016. 2017. 2020.   nan]\n"
     ]
    }
   ],
   "source": [
    "años = df['Year']\n",
    "\n",
    "año_max = np.unique(años)\n",
    "print(año_max)"
   ]
  },
  {
   "cell_type": "code",
   "execution_count": 234,
   "metadata": {},
   "outputs": [
    {
     "name": "stdout",
     "output_type": "stream",
     "text": [
      "El año con las mayores ventas globales de videojuegos es: 2006.0\n",
      "Ventas globales: 82.74\n"
     ]
    }
   ],
   "source": [
    "ventas_globales = df['Global_Sales']\n",
    "\n",
    "indices_max1 = np.argmax(ventas_globales)\n",
    "\n",
    "años_max = df.loc[indices_max1, 'Year']\n",
    "\n",
    "ventas_max1 = ventas_globales[indices_max1]\n",
    "\n",
    "print(f\"El año con las mayores ventas globales de videojuegos es: {años_max}\")\n",
    "print(f\"Ventas globales: {ventas_max1}\")"
   ]
  },
  {
   "cell_type": "markdown",
   "metadata": {},
   "source": [
    "### 3.4. Análisis de Ventas por Plataforma"
   ]
  },
  {
   "cell_type": "markdown",
   "metadata": {},
   "source": [
    "Encontrar la plataforma que generó las mayores ventas globales de videojuegos"
   ]
  },
  {
   "cell_type": "code",
   "execution_count": 248,
   "metadata": {},
   "outputs": [
    {
     "name": "stdout",
     "output_type": "stream",
     "text": [
      "['2600' '3DO' '3DS' 'DC' 'DS' 'GB' 'GBA' 'GC' 'GEN' 'GG' 'N64' 'NES' 'NG'\n",
      " 'PC' 'PCFX' 'PS' 'PS2' 'PS3' 'PS4' 'PSP' 'PSV' 'SAT' 'SCD' 'SNES' 'TG16'\n",
      " 'WS' 'Wii' 'WiiU' 'X360' 'XB' 'XOne']\n"
     ]
    }
   ],
   "source": [
    "plataforma = df['Platform']\n",
    "\n",
    "plataforma_max = np.unique(plataforma)\n",
    "print(plataforma_max)"
   ]
  },
  {
   "cell_type": "code",
   "execution_count": 236,
   "metadata": {},
   "outputs": [],
   "source": [
    "# ventas_globales = np.array(['2600', '3DO', '3DS', 'DC', 'DS', 'GB', 'GBA',\n",
    "#                            'GC', 'GEN', 'GG', 'N64', 'NES', 'NG', 'PC', 'PCFX',\n",
    "#                            'PS', 'PS2', 'PS3', 'PS4', 'PSP', 'PSV', 'SAT', 'SCD',\n",
    "#                            'SNES', 'TG16', 'WS', 'Wii', 'WiiU', 'X360', 'XB', 'XOne'])\n",
    "\n",
    "# print(ventas_globales)"
   ]
  },
  {
   "cell_type": "code",
   "execution_count": 237,
   "metadata": {},
   "outputs": [
    {
     "name": "stdout",
     "output_type": "stream",
     "text": [
      "La plataforma que generó las mayores ventas globales de videojuegos es: Wii\n",
      "Ventas globales: 82.74\n"
     ]
    }
   ],
   "source": [
    "ventas_globales = df['Global_Sales'].to_numpy()\n",
    "\n",
    "indices_max2 = np.argmax(ventas_globales)\n",
    "\n",
    "plataforma_mas_vendida = df.loc[indices_max2, 'Platform']\n",
    "\n",
    "ventas_max2 = ventas_globales[indices_max2]\n",
    "\n",
    "print(f\"La plataforma que generó las mayores ventas globales de videojuegos es: {plataforma_mas_vendida}\")\n",
    "print(f\"Ventas globales: {ventas_max2}\")"
   ]
  },
  {
   "cell_type": "markdown",
   "metadata": {},
   "source": [
    "### 3.5. Análisis de Ventas por Editor"
   ]
  },
  {
   "cell_type": "markdown",
   "metadata": {},
   "source": [
    "Encontrar el editor que generó las mayores ventas globales de videojuegos"
   ]
  },
  {
   "cell_type": "code",
   "execution_count": 239,
   "metadata": {},
   "outputs": [
    {
     "data": {
      "text/html": [
       "<div>\n",
       "<style scoped>\n",
       "    .dataframe tbody tr th:only-of-type {\n",
       "        vertical-align: middle;\n",
       "    }\n",
       "\n",
       "    .dataframe tbody tr th {\n",
       "        vertical-align: top;\n",
       "    }\n",
       "\n",
       "    .dataframe thead th {\n",
       "        text-align: right;\n",
       "    }\n",
       "</style>\n",
       "<table border=\"1\" class=\"dataframe\">\n",
       "  <thead>\n",
       "    <tr style=\"text-align: right;\">\n",
       "      <th></th>\n",
       "      <th>Rank</th>\n",
       "      <th>Name</th>\n",
       "      <th>Platform</th>\n",
       "      <th>Year</th>\n",
       "      <th>Genre</th>\n",
       "      <th>Publisher</th>\n",
       "      <th>NA_Sales</th>\n",
       "      <th>EU_Sales</th>\n",
       "      <th>JP_Sales</th>\n",
       "      <th>Other_Sales</th>\n",
       "      <th>Global_Sales</th>\n",
       "    </tr>\n",
       "  </thead>\n",
       "  <tbody>\n",
       "    <tr>\n",
       "      <th>0</th>\n",
       "      <td>1</td>\n",
       "      <td>Wii Sports</td>\n",
       "      <td>Wii</td>\n",
       "      <td>2006.0</td>\n",
       "      <td>Sports</td>\n",
       "      <td>Nintendo</td>\n",
       "      <td>41.49</td>\n",
       "      <td>29.02</td>\n",
       "      <td>3.77</td>\n",
       "      <td>8.46</td>\n",
       "      <td>82.74</td>\n",
       "    </tr>\n",
       "  </tbody>\n",
       "</table>\n",
       "</div>"
      ],
      "text/plain": [
       "   Rank        Name Platform    Year   Genre Publisher  NA_Sales  EU_Sales  \\\n",
       "0     1  Wii Sports      Wii  2006.0  Sports  Nintendo     41.49     29.02   \n",
       "\n",
       "   JP_Sales  Other_Sales  Global_Sales  \n",
       "0      3.77         8.46         82.74  "
      ]
     },
     "execution_count": 239,
     "metadata": {},
     "output_type": "execute_result"
    }
   ],
   "source": [
    "df.head(1)"
   ]
  },
  {
   "cell_type": "code",
   "execution_count": null,
   "metadata": {},
   "outputs": [],
   "source": []
  },
  {
   "cell_type": "markdown",
   "metadata": {},
   "source": [
    "### 3.6. Comparación de Ventas entre Plataformas"
   ]
  },
  {
   "cell_type": "markdown",
   "metadata": {},
   "source": [
    "Comparar las ventas globales de los videojuegos"
   ]
  },
  {
   "cell_type": "code",
   "execution_count": 250,
   "metadata": {},
   "outputs": [
    {
     "name": "stdout",
     "output_type": "stream",
     "text": [
      "[1.000e-02 2.000e-02 3.000e-02 4.000e-02 5.000e-02 6.000e-02 7.000e-02\n",
      " 8.000e-02 9.000e-02 1.000e-01 1.100e-01 1.200e-01 1.300e-01 1.400e-01\n",
      " 1.500e-01 1.600e-01 1.700e-01 1.800e-01 1.900e-01 2.000e-01 2.100e-01\n",
      " 2.200e-01 2.300e-01 2.400e-01 2.500e-01 2.600e-01 2.700e-01 2.800e-01\n",
      " 2.900e-01 3.000e-01 3.100e-01 3.200e-01 3.300e-01 3.400e-01 3.500e-01\n",
      " 3.600e-01 3.700e-01 3.800e-01 3.900e-01 4.000e-01 4.100e-01 4.200e-01\n",
      " 4.300e-01 4.400e-01 4.500e-01 4.600e-01 4.700e-01 4.800e-01 4.900e-01\n",
      " 5.000e-01 5.100e-01 5.200e-01 5.300e-01 5.400e-01 5.500e-01 5.600e-01\n",
      " 5.700e-01 5.800e-01 5.900e-01 6.000e-01 6.100e-01 6.200e-01 6.300e-01\n",
      " 6.400e-01 6.500e-01 6.600e-01 6.700e-01 6.800e-01 6.900e-01 7.000e-01\n",
      " 7.100e-01 7.200e-01 7.300e-01 7.400e-01 7.500e-01 7.600e-01 7.700e-01\n",
      " 7.800e-01 7.900e-01 8.000e-01 8.100e-01 8.200e-01 8.300e-01 8.400e-01\n",
      " 8.500e-01 8.600e-01 8.700e-01 8.800e-01 8.900e-01 9.000e-01 9.100e-01\n",
      " 9.200e-01 9.300e-01 9.400e-01 9.500e-01 9.600e-01 9.700e-01 9.800e-01\n",
      " 9.900e-01 1.000e+00 1.010e+00 1.020e+00 1.030e+00 1.040e+00 1.050e+00\n",
      " 1.060e+00 1.070e+00 1.080e+00 1.090e+00 1.100e+00 1.110e+00 1.120e+00\n",
      " 1.130e+00 1.140e+00 1.150e+00 1.160e+00 1.170e+00 1.180e+00 1.190e+00\n",
      " 1.200e+00 1.210e+00 1.220e+00 1.230e+00 1.240e+00 1.250e+00 1.260e+00\n",
      " 1.270e+00 1.280e+00 1.290e+00 1.300e+00 1.310e+00 1.320e+00 1.330e+00\n",
      " 1.340e+00 1.350e+00 1.360e+00 1.370e+00 1.380e+00 1.390e+00 1.400e+00\n",
      " 1.410e+00 1.420e+00 1.430e+00 1.440e+00 1.450e+00 1.460e+00 1.470e+00\n",
      " 1.480e+00 1.490e+00 1.500e+00 1.510e+00 1.520e+00 1.530e+00 1.540e+00\n",
      " 1.550e+00 1.560e+00 1.570e+00 1.580e+00 1.590e+00 1.600e+00 1.610e+00\n",
      " 1.620e+00 1.630e+00 1.640e+00 1.650e+00 1.660e+00 1.670e+00 1.680e+00\n",
      " 1.690e+00 1.700e+00 1.710e+00 1.720e+00 1.730e+00 1.740e+00 1.750e+00\n",
      " 1.760e+00 1.770e+00 1.780e+00 1.790e+00 1.800e+00 1.810e+00 1.820e+00\n",
      " 1.830e+00 1.840e+00 1.850e+00 1.860e+00 1.870e+00 1.880e+00 1.890e+00\n",
      " 1.900e+00 1.910e+00 1.920e+00 1.930e+00 1.940e+00 1.950e+00 1.960e+00\n",
      " 1.970e+00 1.980e+00 1.990e+00 2.000e+00 2.010e+00 2.020e+00 2.030e+00\n",
      " 2.040e+00 2.050e+00 2.060e+00 2.070e+00 2.080e+00 2.090e+00 2.100e+00\n",
      " 2.110e+00 2.120e+00 2.130e+00 2.140e+00 2.150e+00 2.160e+00 2.170e+00\n",
      " 2.180e+00 2.190e+00 2.200e+00 2.210e+00 2.220e+00 2.230e+00 2.240e+00\n",
      " 2.250e+00 2.260e+00 2.270e+00 2.280e+00 2.290e+00 2.300e+00 2.310e+00\n",
      " 2.320e+00 2.330e+00 2.340e+00 2.350e+00 2.360e+00 2.370e+00 2.380e+00\n",
      " 2.390e+00 2.400e+00 2.410e+00 2.420e+00 2.430e+00 2.440e+00 2.450e+00\n",
      " 2.460e+00 2.470e+00 2.480e+00 2.490e+00 2.500e+00 2.510e+00 2.520e+00\n",
      " 2.530e+00 2.540e+00 2.560e+00 2.570e+00 2.580e+00 2.590e+00 2.600e+00\n",
      " 2.610e+00 2.620e+00 2.630e+00 2.640e+00 2.650e+00 2.660e+00 2.670e+00\n",
      " 2.680e+00 2.690e+00 2.700e+00 2.710e+00 2.720e+00 2.730e+00 2.740e+00\n",
      " 2.750e+00 2.760e+00 2.770e+00 2.780e+00 2.790e+00 2.800e+00 2.810e+00\n",
      " 2.820e+00 2.830e+00 2.840e+00 2.850e+00 2.860e+00 2.870e+00 2.880e+00\n",
      " 2.890e+00 2.900e+00 2.910e+00 2.920e+00 2.930e+00 2.940e+00 2.950e+00\n",
      " 2.960e+00 2.970e+00 2.980e+00 2.990e+00 3.000e+00 3.020e+00 3.030e+00\n",
      " 3.040e+00 3.050e+00 3.070e+00 3.080e+00 3.090e+00 3.110e+00 3.120e+00\n",
      " 3.130e+00 3.140e+00 3.150e+00 3.160e+00 3.170e+00 3.180e+00 3.190e+00\n",
      " 3.200e+00 3.210e+00 3.220e+00 3.230e+00 3.240e+00 3.260e+00 3.270e+00\n",
      " 3.280e+00 3.310e+00 3.320e+00 3.330e+00 3.340e+00 3.360e+00 3.380e+00\n",
      " 3.390e+00 3.400e+00 3.410e+00 3.420e+00 3.430e+00 3.440e+00 3.450e+00\n",
      " 3.460e+00 3.480e+00 3.490e+00 3.500e+00 3.510e+00 3.520e+00 3.530e+00\n",
      " 3.540e+00 3.560e+00 3.580e+00 3.590e+00 3.600e+00 3.610e+00 3.620e+00\n",
      " 3.630e+00 3.640e+00 3.650e+00 3.660e+00 3.670e+00 3.690e+00 3.700e+00\n",
      " 3.710e+00 3.720e+00 3.730e+00 3.760e+00 3.770e+00 3.780e+00 3.790e+00\n",
      " 3.810e+00 3.820e+00 3.830e+00 3.840e+00 3.850e+00 3.870e+00 3.880e+00\n",
      " 3.890e+00 3.900e+00 3.910e+00 3.920e+00 3.980e+00 3.990e+00 4.000e+00\n",
      " 4.010e+00 4.020e+00 4.030e+00 4.050e+00 4.060e+00 4.070e+00 4.080e+00\n",
      " 4.090e+00 4.100e+00 4.110e+00 4.120e+00 4.140e+00 4.160e+00 4.170e+00\n",
      " 4.190e+00 4.200e+00 4.210e+00 4.220e+00 4.230e+00 4.240e+00 4.250e+00\n",
      " 4.260e+00 4.310e+00 4.330e+00 4.340e+00 4.350e+00 4.370e+00 4.380e+00\n",
      " 4.390e+00 4.410e+00 4.420e+00 4.440e+00 4.450e+00 4.470e+00 4.480e+00\n",
      " 4.490e+00 4.500e+00 4.530e+00 4.550e+00 4.570e+00 4.580e+00 4.600e+00\n",
      " 4.610e+00 4.620e+00 4.630e+00 4.640e+00 4.670e+00 4.680e+00 4.700e+00\n",
      " 4.730e+00 4.760e+00 4.770e+00 4.790e+00 4.820e+00 4.830e+00 4.840e+00\n",
      " 4.850e+00 4.870e+00 4.880e+00 4.900e+00 4.910e+00 4.940e+00 4.960e+00\n",
      " 4.980e+00 5.000e+00 5.010e+00 5.020e+00 5.050e+00 5.070e+00 5.080e+00\n",
      " 5.110e+00 5.120e+00 5.130e+00 5.140e+00 5.150e+00 5.170e+00 5.180e+00\n",
      " 5.190e+00 5.200e+00 5.210e+00 5.230e+00 5.240e+00 5.260e+00 5.270e+00\n",
      " 5.290e+00 5.300e+00 5.310e+00 5.340e+00 5.360e+00 5.420e+00 5.430e+00\n",
      " 5.450e+00 5.460e+00 5.470e+00 5.490e+00 5.500e+00 5.510e+00 5.530e+00\n",
      " 5.550e+00 5.570e+00 5.580e+00 5.650e+00 5.720e+00 5.740e+00 5.820e+00\n",
      " 5.830e+00 5.840e+00 5.920e+00 5.950e+00 5.990e+00 6.030e+00 6.050e+00\n",
      " 6.110e+00 6.240e+00 6.270e+00 6.280e+00 6.300e+00 6.310e+00 6.340e+00\n",
      " 6.360e+00 6.390e+00 6.400e+00 6.410e+00 6.430e+00 6.500e+00 6.510e+00\n",
      " 6.560e+00 6.590e+00 6.600e+00 6.670e+00 6.690e+00 6.720e+00 6.730e+00\n",
      " 6.760e+00 6.810e+00 6.820e+00 6.830e+00 6.900e+00 6.910e+00 6.950e+00\n",
      " 6.960e+00 7.070e+00 7.130e+00 7.160e+00 7.200e+00 7.230e+00 7.270e+00\n",
      " 7.300e+00 7.310e+00 7.340e+00 7.370e+00 7.450e+00 7.460e+00 7.580e+00\n",
      " 7.600e+00 7.670e+00 7.690e+00 7.720e+00 7.810e+00 7.840e+00 7.860e+00\n",
      " 8.050e+00 8.060e+00 8.090e+00 8.110e+00 8.240e+00 8.330e+00 8.420e+00\n",
      " 8.490e+00 8.760e+00 8.840e+00 9.020e+00 9.090e+00 9.200e+00 9.300e+00\n",
      " 9.320e+00 9.490e+00 9.520e+00 9.590e+00 9.720e+00 9.760e+00 9.820e+00\n",
      " 9.870e+00 9.880e+00 1.021e+01 1.026e+01 1.042e+01 1.049e+01 1.055e+01\n",
      " 1.057e+01 1.069e+01 1.077e+01 1.079e+01 1.095e+01 1.102e+01 1.118e+01\n",
      " 1.133e+01 1.152e+01 1.166e+01 1.189e+01 1.190e+01 1.198e+01 1.214e+01\n",
      " 1.221e+01 1.227e+01 1.273e+01 1.304e+01 1.310e+01 1.346e+01 1.351e+01\n",
      " 1.373e+01 1.403e+01 1.424e+01 1.435e+01 1.464e+01 1.476e+01 1.498e+01\n",
      " 1.530e+01 1.532e+01 1.585e+01 1.615e+01 1.638e+01 1.728e+01 1.814e+01\n",
      " 1.836e+01 2.022e+01 2.061e+01 2.081e+01 2.140e+01 2.182e+01 2.200e+01\n",
      " 2.272e+01 2.310e+01 2.342e+01 2.476e+01 2.831e+01 2.862e+01 2.902e+01\n",
      " 3.001e+01 3.026e+01 3.137e+01 3.300e+01 3.582e+01 4.024e+01 8.274e+01]\n"
     ]
    }
   ],
   "source": [
    "venta_global = df['Global_Sales']\n",
    "\n",
    "venta_max = np.unique(venta_global)\n",
    "print(venta_max)"
   ]
  }
 ],
 "metadata": {
  "kernelspec": {
   "display_name": "Python 3",
   "language": "python",
   "name": "python3"
  },
  "language_info": {
   "codemirror_mode": {
    "name": "ipython",
    "version": 3
   },
   "file_extension": ".py",
   "mimetype": "text/x-python",
   "name": "python",
   "nbconvert_exporter": "python",
   "pygments_lexer": "ipython3",
   "version": "3.11.3"
  },
  "orig_nbformat": 4
 },
 "nbformat": 4,
 "nbformat_minor": 2
}
